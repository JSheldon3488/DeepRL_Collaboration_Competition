{
 "cells": [
  {
   "cell_type": "markdown",
   "metadata": {},
   "source": [
    "# Collaboration and Competition\n",
    "\n",
    "---\n",
    "\n",
    "This notebook explores and solves the third project in the [Deep Reinforcement Learning Nanodegree](https://www.udacity.com/course/deep-reinforcement-learning-nanodegree--nd893) program called Collaboration and Competition.\n",
    "This project involves learning in an environment with multiple agents. The starter code for this project can be found [here](https://github.com/udacity/deep-reinforcement-learning/tree/master/p3_collab-compet).\n",
    "\n",
    "### 1. Import / Setup all necessary packages and notebook variables\n",
    "\n",
    "If you have any trouble importing these packages make sure you check the README file and have all the necessary dependencies.\n",
    "**Note:** To set up the unity environment the UnityEnvironment(filepath) must match the location of the Unity environment that you downloaded from the README."
   ]
  },
  {
   "cell_type": "code",
   "execution_count": 1,
   "metadata": {},
   "outputs": [
    {
     "name": "stderr",
     "output_type": "stream",
     "text": [
      "INFO:unityagents:\n",
      "'Academy' started successfully!\n",
      "Unity Academy name: Academy\n",
      "        Number of Brains: 1\n",
      "        Number of External Brains : 1\n",
      "        Lesson number : 0\n",
      "        Reset Parameters :\n",
      "\t\t\n",
      "Unity brain name: TennisBrain\n",
      "        Number of Visual Observations (per agent): 0\n",
      "        Vector Observation space type: continuous\n",
      "        Vector Observation space size (per agent): 8\n",
      "        Number of stacked Vector Observation: 3\n",
      "        Vector Action space type: continuous\n",
      "        Vector Action space size (per agent): 2\n",
      "        Vector Action descriptions: , \n"
     ]
    }
   ],
   "source": [
    "from unityagents import UnityEnvironment\n",
    "from agents import MADDPG\n",
    "import numpy as np\n",
    "import os\n",
    "\n",
    "#----- Setup Notebook Variables -----#\n",
    "path = os.path.abspath(os.getcwd())\n",
    "env = UnityEnvironment(f'{path}\\\\Tennis_Windows_x86_64\\\\Tennis.exe')\n",
    "brain_name = env.brain_names[0]\n",
    "brain = env.brains[brain_name]"
   ]
  },
  {
   "cell_type": "markdown",
   "metadata": {},
   "source": [
    "### 2. Examine the environment\n",
    "\n",
    "In this environment, two agents control rackets to bounce a ball over a net.\n",
    "If an agent hits the ball over the net, it receives a reward of +0.1.  If an agent lets a ball hit the ground or hits the ball out of bounds, it receives a reward of -0.01.\n",
    "Thus, this is a cooperative environment and the goal of each agent is to keep the ball in play.\n",
    "\n",
    "The observation space consists of variables corresponding to the position and velocity of the ball and racket.\n",
    "Two continuous actions are available, corresponding to movement toward (or away from) the net, and jumping.\n",
    "\n",
    "Below is additional information about the environment"
   ]
  },
  {
   "cell_type": "code",
   "execution_count": 2,
   "metadata": {},
   "outputs": [
    {
     "name": "stdout",
     "output_type": "stream",
     "text": [
      "Number of agents: 2\n",
      "Size of each action per agent: 2\n",
      "Size of observation space per agent: 24\n",
      "Example State: [ 0.          0.          0.          0.          0.          0.\n",
      "  0.          0.          0.          0.          0.          0.\n",
      "  0.          0.          0.          0.         -6.65278625 -1.5\n",
      " -0.          0.          6.83172083  6.         -0.          0.        ]\n",
      "Action Example: [[ 0.57516834  0.12005162]\n",
      " [-0.14044376  0.02694566]]\n",
      "Shape of states: (2, 24), Shape of next_states: (2, 24)\n",
      "Example of rewards: [-0.009999999776482582, 0.0]\n",
      "Example of Dones: [True, True]\n"
     ]
    }
   ],
   "source": [
    "#-------         Environment Details        -------#\n",
    "env_info = env.reset(train_mode=True)[brain_name]\n",
    "num_agents = len(env_info.agents)\n",
    "action_size = brain.vector_action_space_size\n",
    "states = env_info.vector_observations\n",
    "state_size = states.shape[1]\n",
    "print(f'Number of agents: {num_agents}')\n",
    "print(f'Size of each action per agent: {action_size}')\n",
    "print(f'Size of observation space per agent: {state_size}')\n",
    "print(f'Example State: {states[0]}')\n",
    "\n",
    "#-------        Untrained Agent Example     -------#\n",
    "for i in range(1, 4):\n",
    "    env_info = env.reset(train_mode=False)[brain_name]\n",
    "    states = env_info.vector_observations\n",
    "    scores = np.zeros(num_agents)\n",
    "    while True:\n",
    "        actions = np.random.randn(num_agents, action_size)\n",
    "        actions = np.clip(actions, -1, 1)\n",
    "        env_info = env.step(actions)[brain_name]\n",
    "        next_states = env_info.vector_observations\n",
    "        rewards = env_info.rewards                         # get reward (for each agent)\n",
    "        dones = env_info.local_done                        # see if episode finished\n",
    "        scores += env_info.rewards                         # update the score (for each agent)\n",
    "        states = next_states                               # roll over states to next time step\n",
    "        if np.any(dones):                                  # exit loop if episode finished\n",
    "            break\n",
    "\n",
    "    # Show Example of what environment returns\n",
    "    if i == 1:\n",
    "        print(f'Action Example: {actions}')\n",
    "        print(f'Shape of states: {states.shape}, Shape of next_states: {next_states.shape}')\n",
    "        print(f'Example of rewards: {rewards}')\n",
    "        print(f'Example of Dones: {dones}')\n"
   ]
  },
  {
   "cell_type": "markdown",
   "source": [
    "### 3. Train an Agent"
   ],
   "metadata": {
    "collapsed": false,
    "pycharm": {
     "name": "#%% md\n"
    }
   }
  },
  {
   "cell_type": "code",
   "execution_count": 3,
   "outputs": [
    {
     "name": "stdout",
     "output_type": "stream",
     "text": [
      "Episode: 10 \tAverage Score: 0.02\n",
      "Episode: 20 \tAverage Score: 0.0\n",
      "Episode: 30 \tAverage Score: 0.02\n",
      "Episode: 40 \tAverage Score: 0.0\n",
      "Episode: 50 \tAverage Score: 0.03\n",
      "Episode: 60 \tAverage Score: 0.02\n",
      "Episode: 70 \tAverage Score: 0.02\n",
      "Episode: 80 \tAverage Score: 0.03\n",
      "Episode: 90 \tAverage Score: 0.0\n",
      "Episode: 100 \tAverage Score: 0.04\n",
      "Episode: 110 \tAverage Score: 0.02\n",
      "Episode: 120 \tAverage Score: 0.0\n",
      "Episode: 130 \tAverage Score: 0.01\n",
      "Episode: 140 \tAverage Score: 0.06\n",
      "Episode: 150 \tAverage Score: 0.01\n",
      "Episode: 160 \tAverage Score: 0.01\n",
      "Episode: 170 \tAverage Score: 0.01\n",
      "Episode: 180 \tAverage Score: 0.02\n",
      "Episode: 190 \tAverage Score: 0.0\n",
      "Episode: 200 \tAverage Score: 0.02\n",
      "Episode: 210 \tAverage Score: 0.0\n",
      "Episode: 220 \tAverage Score: 0.02\n",
      "Episode: 230 \tAverage Score: 0.0\n",
      "Episode: 240 \tAverage Score: 0.02\n",
      "Episode: 250 \tAverage Score: 0.02\n",
      "Episode: 260 \tAverage Score: 0.0\n",
      "Episode: 270 \tAverage Score: 0.01\n",
      "Episode: 280 \tAverage Score: 0.02\n",
      "Episode: 290 \tAverage Score: 0.02\n",
      "Episode: 300 \tAverage Score: 0.01\n",
      "Episode: 310 \tAverage Score: 0.01\n",
      "Episode: 320 \tAverage Score: 0.02\n",
      "Episode: 330 \tAverage Score: 0.0\n",
      "Episode: 340 \tAverage Score: 0.0\n",
      "Episode: 350 \tAverage Score: 0.04\n",
      "Episode: 360 \tAverage Score: 0.0\n",
      "Episode: 370 \tAverage Score: 0.0\n",
      "Episode: 380 \tAverage Score: 0.01\n",
      "Episode: 390 \tAverage Score: 0.01\n",
      "Episode: 400 \tAverage Score: 0.04\n",
      "Episode: 410 \tAverage Score: 0.01\n",
      "Episode: 420 \tAverage Score: 0.01\n",
      "Episode: 430 \tAverage Score: 0.02\n",
      "Episode: 440 \tAverage Score: 0.02\n",
      "Episode: 450 \tAverage Score: 0.01\n",
      "Episode: 460 \tAverage Score: 0.01\n",
      "Episode: 470 \tAverage Score: 0.0\n",
      "Episode: 480 \tAverage Score: 0.04\n",
      "Episode: 490 \tAverage Score: 0.01\n",
      "Episode: 500 \tAverage Score: 0.03\n",
      "Episode: 510 \tAverage Score: 0.01\n",
      "Episode: 520 \tAverage Score: 0.01\n",
      "Episode: 530 \tAverage Score: 0.0\n",
      "Episode: 540 \tAverage Score: 0.01\n",
      "Episode: 550 \tAverage Score: 0.02\n",
      "Episode: 560 \tAverage Score: 0.02\n",
      "Episode: 570 \tAverage Score: 0.03\n",
      "Episode: 580 \tAverage Score: 0.01\n",
      "Episode: 590 \tAverage Score: 0.0\n",
      "Episode: 600 \tAverage Score: 0.01\n",
      "Episode: 610 \tAverage Score: 0.0\n",
      "Episode: 620 \tAverage Score: 0.01\n",
      "Episode: 630 \tAverage Score: 0.01\n",
      "Episode: 640 \tAverage Score: 0.0\n",
      "Episode: 650 \tAverage Score: 0.01\n",
      "Episode: 660 \tAverage Score: 0.0\n",
      "Episode: 670 \tAverage Score: 0.02\n",
      "Episode: 680 \tAverage Score: 0.03\n",
      "Episode: 690 \tAverage Score: 0.0\n",
      "Episode: 700 \tAverage Score: 0.01\n",
      "Episode: 710 \tAverage Score: 0.01\n",
      "Episode: 720 \tAverage Score: 0.01\n",
      "Episode: 730 \tAverage Score: 0.0\n",
      "Episode: 740 \tAverage Score: 0.02\n",
      "Episode: 750 \tAverage Score: 0.01\n",
      "Episode: 760 \tAverage Score: 0.01\n",
      "Episode: 770 \tAverage Score: 0.01\n",
      "Episode: 780 \tAverage Score: 0.01\n",
      "Episode: 790 \tAverage Score: 0.0\n",
      "Episode: 800 \tAverage Score: 0.02\n",
      "Episode: 810 \tAverage Score: 0.02\n",
      "Episode: 820 \tAverage Score: 0.0\n",
      "Episode: 830 \tAverage Score: 0.01\n",
      "Episode: 840 \tAverage Score: 0.02\n",
      "Episode: 850 \tAverage Score: 0.0\n",
      "Episode: 860 \tAverage Score: 0.02\n",
      "Episode: 870 \tAverage Score: 0.02\n",
      "Episode: 880 \tAverage Score: 0.01\n",
      "Episode: 890 \tAverage Score: 0.02\n",
      "Episode: 900 \tAverage Score: 0.0\n",
      "Episode: 910 \tAverage Score: 0.0\n",
      "Episode: 920 \tAverage Score: 0.01\n",
      "Episode: 930 \tAverage Score: 0.01\n",
      "Episode: 940 \tAverage Score: 0.0\n",
      "Episode: 950 \tAverage Score: 0.01\n",
      "Episode: 960 \tAverage Score: 0.0\n",
      "Episode: 970 \tAverage Score: 0.01\n",
      "Episode: 980 \tAverage Score: 0.0\n",
      "Episode: 990 \tAverage Score: 0.0\n",
      "Episode: 1000 \tAverage Score: 0.0\n",
      "Episode: 1010 \tAverage Score: 0.0\n",
      "Episode: 1020 \tAverage Score: 0.01\n",
      "Episode: 1030 \tAverage Score: 0.01\n",
      "Episode: 1040 \tAverage Score: 0.01\n",
      "Episode: 1050 \tAverage Score: 0.01\n",
      "Episode: 1060 \tAverage Score: 0.0\n",
      "Episode: 1070 \tAverage Score: 0.01\n",
      "Episode: 1080 \tAverage Score: 0.0\n",
      "Episode: 1090 \tAverage Score: 0.01\n",
      "Episode: 1100 \tAverage Score: 0.0\n",
      "Episode: 1110 \tAverage Score: 0.01\n",
      "Episode: 1120 \tAverage Score: 0.01\n",
      "Episode: 1130 \tAverage Score: 0.0\n",
      "Episode: 1140 \tAverage Score: 0.01\n",
      "Episode: 1150 \tAverage Score: 0.0\n",
      "Episode: 1160 \tAverage Score: 0.0\n",
      "Episode: 1170 \tAverage Score: 0.01\n",
      "Episode: 1180 \tAverage Score: 0.01\n",
      "Episode: 1190 \tAverage Score: 0.0\n",
      "Episode: 1200 \tAverage Score: 0.0\n",
      "Episode: 1210 \tAverage Score: 0.01\n",
      "Episode: 1220 \tAverage Score: 0.0\n",
      "Episode: 1230 \tAverage Score: 0.0\n",
      "Episode: 1240 \tAverage Score: 0.0\n",
      "Episode: 1250 \tAverage Score: 0.0\n",
      "Episode: 1260 \tAverage Score: 0.01\n",
      "Episode: 1270 \tAverage Score: 0.0\n",
      "Episode: 1280 \tAverage Score: 0.0\n",
      "Episode: 1290 \tAverage Score: 0.0\n",
      "Episode: 1300 \tAverage Score: 0.01\n",
      "Episode: 1310 \tAverage Score: 0.0\n",
      "Episode: 1320 \tAverage Score: 0.02\n",
      "Episode: 1330 \tAverage Score: 0.0\n",
      "Episode: 1340 \tAverage Score: 0.0\n",
      "Episode: 1350 \tAverage Score: 0.0\n",
      "Episode: 1360 \tAverage Score: 0.01\n",
      "Episode: 1370 \tAverage Score: 0.01\n",
      "Episode: 1380 \tAverage Score: 0.0\n",
      "Episode: 1390 \tAverage Score: 0.0\n",
      "Episode: 1400 \tAverage Score: 0.0\n",
      "Episode: 1410 \tAverage Score: 0.0\n",
      "Episode: 1420 \tAverage Score: 0.0\n",
      "Episode: 1430 \tAverage Score: 0.01\n",
      "Episode: 1440 \tAverage Score: 0.0\n",
      "Episode: 1450 \tAverage Score: 0.01\n",
      "Episode: 1460 \tAverage Score: 0.01\n",
      "Episode: 1470 \tAverage Score: 0.0\n",
      "Episode: 1480 \tAverage Score: 0.0\n",
      "Episode: 1490 \tAverage Score: 0.01\n",
      "Episode: 1500 \tAverage Score: 0.0\n",
      "Episode: 1510 \tAverage Score: 0.0\n",
      "Episode: 1520 \tAverage Score: 0.0\n",
      "Episode: 1530 \tAverage Score: 0.02\n",
      "Episode: 1540 \tAverage Score: 0.0\n",
      "Episode: 1550 \tAverage Score: 0.0\n",
      "Episode: 1560 \tAverage Score: 0.0\n",
      "Episode: 1570 \tAverage Score: 0.0\n",
      "Episode: 1580 \tAverage Score: 0.01\n",
      "Episode: 1590 \tAverage Score: 0.0\n",
      "Episode: 1600 \tAverage Score: 0.01\n",
      "Episode: 1610 \tAverage Score: 0.01\n",
      "Episode: 1620 \tAverage Score: 0.0\n",
      "Episode: 1630 \tAverage Score: 0.01\n",
      "Episode: 1640 \tAverage Score: 0.0\n",
      "Episode: 1650 \tAverage Score: 0.0\n",
      "Episode: 1660 \tAverage Score: 0.0\n",
      "Episode: 1670 \tAverage Score: 0.0\n",
      "Episode: 1680 \tAverage Score: 0.0\n",
      "Episode: 1690 \tAverage Score: 0.0\n",
      "Episode: 1700 \tAverage Score: 0.0\n",
      "Episode: 1710 \tAverage Score: 0.0\n",
      "Episode: 1720 \tAverage Score: 0.0\n",
      "Episode: 1730 \tAverage Score: 0.0\n",
      "Episode: 1740 \tAverage Score: 0.0\n",
      "Episode: 1750 \tAverage Score: 0.0\n",
      "Episode: 1760 \tAverage Score: 0.0\n",
      "Episode: 1770 \tAverage Score: 0.02\n",
      "Episode: 1780 \tAverage Score: 0.0\n",
      "Episode: 1790 \tAverage Score: 0.0\n",
      "Episode: 1800 \tAverage Score: 0.0\n",
      "Episode: 1810 \tAverage Score: 0.0\n",
      "Episode: 1820 \tAverage Score: 0.0\n",
      "Episode: 1830 \tAverage Score: 0.0\n",
      "Episode: 1840 \tAverage Score: 0.0\n",
      "Episode: 1850 \tAverage Score: 0.0\n",
      "Episode: 1860 \tAverage Score: 0.01\n",
      "Episode: 1870 \tAverage Score: 0.0\n",
      "Episode: 1880 \tAverage Score: 0.0\n",
      "Episode: 1890 \tAverage Score: 0.0\n",
      "Episode: 1900 \tAverage Score: 0.0\n",
      "Episode: 1910 \tAverage Score: 0.0\n",
      "Episode: 1920 \tAverage Score: 0.01\n",
      "Episode: 1930 \tAverage Score: 0.0\n",
      "Episode: 1940 \tAverage Score: 0.0\n",
      "Episode: 1950 \tAverage Score: 0.0\n",
      "Episode: 1960 \tAverage Score: 0.0\n",
      "Episode: 1970 \tAverage Score: 0.02\n",
      "Episode: 1980 \tAverage Score: 0.0\n",
      "Episode: 1990 \tAverage Score: 0.01\n",
      "Episode: 2000 \tAverage Score: 0.0\n",
      "Episode: 2010 \tAverage Score: 0.0\n",
      "Episode: 2020 \tAverage Score: 0.0\n",
      "Episode: 2030 \tAverage Score: 0.0\n",
      "Episode: 2040 \tAverage Score: 0.0\n",
      "Episode: 2050 \tAverage Score: 0.0\n",
      "Episode: 2060 \tAverage Score: 0.0\n",
      "Episode: 2070 \tAverage Score: 0.0\n",
      "Episode: 2080 \tAverage Score: 0.0\n",
      "Episode: 2090 \tAverage Score: 0.0\n",
      "Episode: 2100 \tAverage Score: 0.0\n",
      "Episode: 2110 \tAverage Score: 0.0\n",
      "Episode: 2120 \tAverage Score: 0.0\n",
      "Episode: 2130 \tAverage Score: 0.01\n",
      "Episode: 2140 \tAverage Score: 0.01\n",
      "Episode: 2150 \tAverage Score: 0.0\n",
      "Episode: 2160 \tAverage Score: 0.0\n",
      "Episode: 2170 \tAverage Score: 0.01\n",
      "Episode: 2180 \tAverage Score: 0.0\n",
      "Episode: 2190 \tAverage Score: 0.0\n",
      "Episode: 2200 \tAverage Score: 0.01\n",
      "Episode: 2210 \tAverage Score: 0.01\n",
      "Episode: 2220 \tAverage Score: 0.0\n",
      "Episode: 2230 \tAverage Score: 0.01\n",
      "Episode: 2240 \tAverage Score: 0.0\n",
      "Episode: 2250 \tAverage Score: 0.0\n",
      "Episode: 2260 \tAverage Score: 0.0\n",
      "Episode: 2270 \tAverage Score: 0.0\n",
      "Episode: 2280 \tAverage Score: 0.0\n",
      "Episode: 2290 \tAverage Score: 0.0\n",
      "Episode: 2300 \tAverage Score: 0.0\n",
      "Episode: 2310 \tAverage Score: 0.0\n",
      "Episode: 2320 \tAverage Score: 0.0\n",
      "Episode: 2330 \tAverage Score: 0.02\n",
      "Episode: 2340 \tAverage Score: 0.0\n",
      "Episode: 2350 \tAverage Score: 0.0\n",
      "Episode: 2360 \tAverage Score: 0.0\n",
      "Episode: 2370 \tAverage Score: 0.0\n",
      "Episode: 2380 \tAverage Score: 0.01\n",
      "Episode: 2390 \tAverage Score: 0.01\n",
      "Episode: 2400 \tAverage Score: 0.01\n",
      "Episode: 2410 \tAverage Score: 0.0\n",
      "Episode: 2420 \tAverage Score: 0.0\n",
      "Episode: 2430 \tAverage Score: 0.0\n",
      "Episode: 2440 \tAverage Score: 0.01\n",
      "Episode: 2450 \tAverage Score: 0.0\n",
      "Episode: 2460 \tAverage Score: 0.0\n",
      "Episode: 2470 \tAverage Score: 0.0\n",
      "Episode: 2480 \tAverage Score: 0.0\n",
      "Episode: 2490 \tAverage Score: 0.0\n",
      "Episode: 2500 \tAverage Score: 0.0\n"
     ]
    },
    {
     "data": {
      "text/plain": "([0.09000000171363354,\n  0.0,\n  0.10000000149011612,\n  0.0,\n  0.0,\n  0.0,\n  0.0,\n  0.0,\n  0.0,\n  0.0,\n  0.0,\n  0.0,\n  0.0,\n  0.0,\n  0.0,\n  0.0,\n  0.0,\n  0.0,\n  0.0,\n  0.0,\n  0.0,\n  0.0,\n  0.0,\n  0.0,\n  0.0,\n  0.10000000149011612,\n  0.0,\n  0.0,\n  0.09000000171363354,\n  0.0,\n  0.0,\n  0.0,\n  0.0,\n  0.0,\n  0.0,\n  0.0,\n  0.0,\n  0.0,\n  0.0,\n  0.0,\n  0.0,\n  0.0,\n  0.20000000298023224,\n  0.0,\n  0.0,\n  0.0,\n  0.10000000149011612,\n  0.0,\n  0.0,\n  0.0,\n  0.0,\n  0.0,\n  0.10000000149011612,\n  0.10000000149011612,\n  0.0,\n  0.0,\n  0.0,\n  0.0,\n  0.0,\n  0.0,\n  0.10000000149011612,\n  0.0,\n  0.0,\n  0.0,\n  0.0,\n  0.0,\n  0.0,\n  0.10000000149011612,\n  0.0,\n  0.0,\n  0.0,\n  0.0,\n  0.0,\n  0.0,\n  0.10000000149011612,\n  0.0,\n  0.10000000149011612,\n  0.0,\n  0.0,\n  0.09000000171363354,\n  0.0,\n  0.0,\n  0.0,\n  0.0,\n  0.0,\n  0.0,\n  0.0,\n  0.0,\n  0.0,\n  0.0,\n  0.09000000171363354,\n  0.0,\n  0.0,\n  0.0,\n  0.10000000149011612,\n  0.0,\n  0.10000000149011612,\n  0.0,\n  0.10000000149011612,\n  0.0,\n  0.0,\n  0.0,\n  0.0,\n  0.0,\n  0.0,\n  0.10000000149011612,\n  0.09000000171363354,\n  0.0,\n  0.0,\n  0.0,\n  0.0,\n  0.0,\n  0.0,\n  0.0,\n  0.0,\n  0.0,\n  0.0,\n  0.0,\n  0.0,\n  0.0,\n  0.0,\n  0.0,\n  0.0,\n  0.0,\n  0.0,\n  0.0,\n  0.0,\n  0.0,\n  0.0,\n  0.09000000171363354,\n  0.10000000149011612,\n  0.0,\n  0.0,\n  0.10000000149011612,\n  0.0,\n  0.0,\n  0.09000000171363354,\n  0.20000000298023224,\n  0.0,\n  0.10000000149011612,\n  0.0,\n  0.0,\n  0.0,\n  0.0,\n  0.0,\n  0.0,\n  0.0,\n  0.0,\n  0.0,\n  0.10000000149011612,\n  0.0,\n  0.0,\n  0.0,\n  0.0,\n  0.0,\n  0.0,\n  0.0,\n  0.0,\n  0.09000000171363354,\n  0.0,\n  0.0,\n  0.0,\n  0.0,\n  0.0,\n  0.0,\n  0.0,\n  0.0,\n  0.10000000149011612,\n  0.0,\n  0.0,\n  0.0,\n  0.0,\n  0.10000000149011612,\n  0.0,\n  0.0,\n  0.0,\n  0.0,\n  0.10000000149011612,\n  0.0,\n  0.0,\n  0.0,\n  0.0,\n  0.0,\n  0.0,\n  0.0,\n  0.0,\n  0.0,\n  0.0,\n  0.0,\n  0.0,\n  0.0,\n  0.0,\n  0.10000000149011612,\n  0.0,\n  0.0,\n  0.0,\n  0.0,\n  0.10000000149011612,\n  0.0,\n  0.0,\n  0.0,\n  0.0,\n  0.0,\n  0.0,\n  0.0,\n  0.0,\n  0.0,\n  0.0,\n  0.0,\n  0.0,\n  0.0,\n  0.0,\n  0.10000000149011612,\n  0.0,\n  0.0,\n  0.0,\n  0.0,\n  0.0,\n  0.0,\n  0.09000000171363354,\n  0.0,\n  0.0,\n  0.0,\n  0.0,\n  0.0,\n  0.0,\n  0.0,\n  0.0,\n  0.0,\n  0.0,\n  0.0,\n  0.09000000171363354,\n  0.0,\n  0.10000000149011612,\n  0.0,\n  0.0,\n  0.0,\n  0.0,\n  0.0,\n  0.0,\n  0.0,\n  0.0,\n  0.0,\n  0.0,\n  0.0,\n  0.10000000149011612,\n  0.0,\n  0.0,\n  0.09000000171363354,\n  0.0,\n  0.0,\n  0.0,\n  0.0,\n  0.0,\n  0.0,\n  0.0,\n  0.0,\n  0.0,\n  0.0,\n  0.0,\n  0.0,\n  0.0,\n  0.0,\n  0.10000000149011612,\n  0.0,\n  0.0,\n  0.0,\n  0.0,\n  0.0,\n  0.0,\n  0.10000000149011612,\n  0.0,\n  0.0,\n  0.0,\n  0.0,\n  0.0,\n  0.0,\n  0.0,\n  0.0,\n  0.10000000149011612,\n  0.0,\n  0.0,\n  0.0,\n  0.10000000149011612,\n  0.0,\n  0.10000000149011612,\n  0.0,\n  0.0,\n  0.0,\n  0.0,\n  0.0,\n  0.0,\n  0.10000000149011612,\n  0.0,\n  0.0,\n  0.0,\n  0.0,\n  0.0,\n  0.0,\n  0.0,\n  0.0,\n  0.0,\n  0.0,\n  0.0,\n  0.10000000149011612,\n  0.0,\n  0.0,\n  0.0,\n  0.0,\n  0.0,\n  0.0,\n  0.09000000357627869,\n  0.0,\n  0.0,\n  0.0,\n  0.0,\n  0.0,\n  0.09000000171363354,\n  0.0,\n  0.0,\n  0.0,\n  0.0,\n  0.0,\n  0.0,\n  0.0,\n  0.0,\n  0.0,\n  0.0,\n  0.0,\n  0.0,\n  0.0,\n  0.0,\n  0.0,\n  0.0,\n  0.0,\n  0.0,\n  0.0,\n  0.0,\n  0.0,\n  0.0,\n  0.0,\n  0.0,\n  0.0,\n  0.09000000357627869,\n  0.0,\n  0.0,\n  0.10000000149011612,\n  0.10000000149011612,\n  0.10000000149011612,\n  0.0,\n  0.0,\n  0.0,\n  0.0,\n  0.0,\n  0.0,\n  0.0,\n  0.0,\n  0.0,\n  0.0,\n  0.0,\n  0.0,\n  0.0,\n  0.0,\n  0.0,\n  0.0,\n  0.0,\n  0.0,\n  0.0,\n  0.0,\n  0.0,\n  0.10000000149011612,\n  0.0,\n  0.0,\n  0.0,\n  0.0,\n  0.0,\n  0.0,\n  0.0,\n  0.0,\n  0.0,\n  0.0,\n  0.0,\n  0.0,\n  0.10000000149011612,\n  0.0,\n  0.0,\n  0.0,\n  0.0,\n  0.0,\n  0.0,\n  0.0,\n  0.10000000149011612,\n  0.0,\n  0.0,\n  0.0,\n  0.0,\n  0.10000000149011612,\n  0.0,\n  0.10000000149011612,\n  0.10000000149011612,\n  0.0,\n  0.0,\n  0.0,\n  0.0,\n  0.0,\n  0.0,\n  0.09000000357627869,\n  0.0,\n  0.0,\n  0.0,\n  0.0,\n  0.09000000171363354,\n  0.0,\n  0.0,\n  0.0,\n  0.0,\n  0.0,\n  0.0,\n  0.0,\n  0.0,\n  0.0,\n  0.0,\n  0.10000000149011612,\n  0.0,\n  0.0,\n  0.0,\n  0.0,\n  0.0,\n  0.10000000149011612,\n  0.0,\n  0.0,\n  0.0,\n  0.10000000149011612,\n  0.0,\n  0.0,\n  0.0,\n  0.0,\n  0.0,\n  0.10000000149011612,\n  0.0,\n  0.0,\n  0.0,\n  0.0,\n  0.0,\n  0.0,\n  0.0,\n  0.0,\n  0.0,\n  0.10000000149011612,\n  0.0,\n  0.0,\n  0.0,\n  0.0,\n  0.0,\n  0.0,\n  0.0,\n  0.0,\n  0.10000000149011612,\n  0.0,\n  0.0,\n  0.0,\n  0.0,\n  0.0,\n  0.0,\n  0.0,\n  0.0,\n  0.0,\n  0.0,\n  0.0,\n  0.0,\n  0.0,\n  0.10000000149011612,\n  0.0,\n  0.0,\n  0.10000000149011612,\n  0.10000000149011612,\n  0.0,\n  0.0,\n  0.0,\n  0.10000000149011612,\n  0.0,\n  0.0,\n  0.0,\n  0.0,\n  0.0,\n  0.0,\n  0.0,\n  0.0,\n  0.09000000357627869,\n  0.0,\n  0.09000000171363354,\n  0.0,\n  0.0,\n  0.0,\n  0.0,\n  0.0,\n  0.0,\n  0.0,\n  0.10000000149011612,\n  0.10000000149011612,\n  0.0,\n  0.0,\n  0.0,\n  0.0,\n  0.0,\n  0.0,\n  0.10000000149011612,\n  0.0,\n  0.0,\n  0.0,\n  0.0,\n  0.0,\n  0.0,\n  0.0,\n  0.0,\n  0.10000000149011612,\n  0.0,\n  0.0,\n  0.0,\n  0.0,\n  0.0,\n  0.0,\n  0.0,\n  0.0,\n  0.0,\n  0.0,\n  0.0,\n  0.0,\n  0.0,\n  0.0,\n  0.0,\n  0.0,\n  0.0,\n  0.0,\n  0.10000000149011612,\n  0.0,\n  0.0,\n  0.0,\n  0.0,\n  0.0,\n  0.0,\n  0.0,\n  0.0,\n  0.0,\n  0.10000000149011612,\n  0.0,\n  0.09000000357627869,\n  0.0,\n  0.0,\n  0.0,\n  0.0,\n  0.10000000149011612,\n  0.0,\n  0.0,\n  0.0,\n  0.10000000149011612,\n  0.0,\n  0.0,\n  0.0,\n  0.0,\n  0.10000000149011612,\n  0.0,\n  0.0,\n  0.0,\n  0.0,\n  0.0,\n  0.0,\n  0.10000000149011612,\n  0.10000000149011612,\n  0.0,\n  0.0,\n  0.0,\n  0.0,\n  0.10000000149011612,\n  0.0,\n  0.0,\n  0.0,\n  0.0,\n  0.0,\n  0.0,\n  0.0,\n  0.0,\n  0.0,\n  0.0,\n  0.0,\n  0.0,\n  0.0,\n  0.0,\n  0.0,\n  0.0,\n  0.0,\n  0.0,\n  0.10000000149011612,\n  0.0,\n  0.0,\n  0.0,\n  0.0,\n  0.0,\n  0.0,\n  0.0,\n  0.0,\n  0.0,\n  0.0,\n  0.0,\n  0.0,\n  0.0,\n  0.0,\n  0.0,\n  0.0,\n  0.0,\n  0.0,\n  0.0,\n  0.0,\n  0.0,\n  0.0,\n  0.0,\n  0.0,\n  0.0,\n  0.0,\n  0.10000000149011612,\n  0.0,\n  0.0,\n  0.10000000149011612,\n  0.0,\n  0.0,\n  0.0,\n  0.0,\n  0.0,\n  0.0,\n  0.0,\n  0.0,\n  0.0,\n  0.0,\n  0.0,\n  0.0,\n  0.0,\n  0.0,\n  0.0,\n  0.0,\n  0.0,\n  0.0,\n  0.0,\n  0.0,\n  0.0,\n  0.0,\n  0.10000000149011612,\n  0.0,\n  0.0,\n  0.0,\n  0.0,\n  0.0,\n  0.0,\n  0.0,\n  0.0,\n  0.0,\n  0.0,\n  0.0,\n  0.0,\n  0.0,\n  0.0,\n  0.0,\n  0.0,\n  0.0,\n  0.10000000149011612,\n  0.0,\n  0.0,\n  0.10000000149011612,\n  0.0,\n  0.0,\n  0.0,\n  0.09000000357627869,\n  0.10000000149011612,\n  0.0,\n  0.0,\n  0.0,\n  0.0,\n  0.0,\n  0.0,\n  0.0,\n  0.10000000149011612,\n  0.0,\n  0.0,\n  0.0,\n  0.0,\n  0.0,\n  0.0,\n  0.0,\n  0.0,\n  0.0,\n  0.0,\n  0.0,\n  0.09000000171363354,\n  0.0,\n  0.0,\n  0.0,\n  0.0,\n  0.0,\n  0.0,\n  0.0,\n  0.0,\n  0.10000000149011612,\n  0.0,\n  0.0,\n  0.0,\n  0.0,\n  0.0,\n  0.0,\n  0.0,\n  0.0,\n  0.0,\n  0.0,\n  0.0,\n  0.0,\n  0.09000000357627869,\n  0.0,\n  0.0,\n  0.0,\n  0.0,\n  0.0,\n  0.0,\n  0.0,\n  0.0,\n  0.0,\n  0.0,\n  0.0,\n  0.0,\n  0.0,\n  0.0,\n  0.0,\n  0.0,\n  0.0,\n  0.0,\n  0.0,\n  0.10000000149011612,\n  0.0,\n  0.0,\n  0.0,\n  0.09000000357627869,\n  0.0,\n  0.0,\n  0.0,\n  0.0,\n  0.0,\n  0.10000000149011612,\n  0.0,\n  0.0,\n  0.0,\n  0.0,\n  0.0,\n  0.0,\n  0.0,\n  0.0,\n  0.10000000149011612,\n  0.0,\n  0.0,\n  0.0,\n  0.0,\n  0.0,\n  0.0,\n  0.0,\n  0.09000000171363354,\n  0.0,\n  0.0,\n  0.0,\n  0.0,\n  0.0,\n  0.0,\n  0.0,\n  0.0,\n  0.0,\n  0.0,\n  0.0,\n  0.0,\n  0.0,\n  0.0,\n  0.10000000149011612,\n  0.0,\n  0.0,\n  0.0,\n  0.0,\n  0.0,\n  0.0,\n  0.0,\n  0.0,\n  0.0,\n  0.0,\n  0.0,\n  0.0,\n  0.0,\n  0.0,\n  0.0,\n  0.0,\n  0.0,\n  0.0,\n  0.10000000149011612,\n  0.10000000149011612,\n  0.0,\n  0.0,\n  0.0,\n  0.0,\n  0.0,\n  0.0,\n  0.0,\n  0.0,\n  0.0,\n  0.0,\n  0.10000000149011612,\n  0.0,\n  0.10000000149011612,\n  0.0,\n  0.0,\n  0.0,\n  0.0,\n  0.0,\n  0.0,\n  0.0,\n  0.0,\n  0.0,\n  0.0,\n  0.0,\n  0.0,\n  0.0,\n  0.09000000171363354,\n  0.0,\n  0.0,\n  0.0,\n  0.0,\n  0.0,\n  0.0,\n  0.0,\n  0.0,\n  0.0,\n  0.10000000149011612,\n  0.0,\n  0.0,\n  0.0,\n  0.0,\n  0.0,\n  0.10000000149011612,\n  0.0,\n  0.0,\n  0.0,\n  0.0,\n  0.0,\n  0.0,\n  0.0,\n  0.0,\n  0.0,\n  0.0,\n  0.0,\n  0.0,\n  0.0,\n  0.0,\n  0.0,\n  0.10000000149011612,\n  0.0,\n  0.0,\n  0.0,\n  0.10000000149011612,\n  0.0,\n  0.0,\n  0.0,\n  0.0,\n  0.0,\n  0.0,\n  0.0,\n  0.0,\n  0.10000000149011612,\n  0.0,\n  0.09000000357627869,\n  0.0,\n  0.0,\n  0.0,\n  0.0,\n  0.0,\n  0.0,\n  0.0,\n  0.0,\n  0.10000000149011612,\n  0.0,\n  0.0,\n  0.0,\n  0.0,\n  0.10000000149011612,\n  0.0,\n  0.0,\n  0.0,\n  0.0,\n  0.10000000149011612,\n  0.0,\n  0.0,\n  0.0,\n  0.0,\n  0.0,\n  0.0,\n  0.0,\n  0.0,\n  0.0,\n  0.0,\n  0.0,\n  0.0,\n  0.0,\n  0.0,\n  0.0,\n  0.0,\n  0.0,\n  0.0,\n  0.0,\n  0.0,\n  0.0,\n  0.0,\n  0.0,\n  0.0,\n  0.0,\n  0.0,\n  0.0,\n  0.0,\n  0.0,\n  0.10000000149011612,\n  0.0,\n  0.0,\n  0.10000000149011612,\n  0.0,\n  0.0,\n  0.0,\n  0.0,\n  0.0,\n  0.0,\n  0.0,\n  0.0,\n  0.0,\n  0.0,\n  0.0,\n  0.0,\n  0.0,\n  0.0,\n  0.0,\n  0.0,\n  0.0,\n  0.0,\n  0.0,\n  0.0,\n  0.0,\n  0.0,\n  0.0,\n  0.0,\n  0.0,\n  0.0,\n  0.10000000149011612,\n  0.0,\n  0.0,\n  0.0,\n  0.0,\n  0.0,\n  0.0,\n  0.0,\n  0.0,\n  0.0,\n  0.0,\n  0.0,\n  0.0,\n  0.0,\n  0.0,\n  0.0,\n  0.0,\n  0.0,\n  0.09000000171363354,\n  0.0,\n  0.0,\n  0.0,\n  0.0,\n  0.0,\n  0.0,\n  0.0,\n  0.0,\n  0.0,\n  0.0,\n  0.0,\n  0.0,\n  0.0,\n  0.0,\n  0.0,\n  0.0,\n  0.0,\n  0.0,\n  0.0,\n  0.0,\n  0.0,\n  0.0,\n  0.0,\n  0.0,\n  0.0,\n  0.0,\n  0.0,\n  0.0,\n  0.0,\n  0.0,\n  0.0,\n  0.0,\n  0.0,\n  ...],\n [0.09000000171363354,\n  0.04500000085681677,\n  0.06333333440124989,\n  0.047500000800937414,\n  0.03800000064074993,\n  0.03166666720062494,\n  0.027142857600535666,\n  0.023750000400468707,\n  0.021111111467083294,\n  0.019000000320374966,\n  0.010000000149011612,\n  0.010000000149011612,\n  0.0,\n  0.0,\n  0.0,\n  0.0,\n  0.0,\n  0.0,\n  0.0,\n  0.0,\n  0.0,\n  0.0,\n  0.0,\n  0.0,\n  0.0,\n  0.010000000149011612,\n  0.010000000149011612,\n  0.010000000149011612,\n  0.019000000320374966,\n  0.019000000320374966,\n  0.019000000320374966,\n  0.019000000320374966,\n  0.019000000320374966,\n  0.019000000320374966,\n  0.019000000320374966,\n  0.009000000171363353,\n  0.009000000171363353,\n  0.009000000171363353,\n  0.0,\n  0.0,\n  0.0,\n  0.0,\n  0.020000000298023225,\n  0.020000000298023225,\n  0.020000000298023225,\n  0.020000000298023225,\n  0.030000000447034835,\n  0.030000000447034835,\n  0.030000000447034835,\n  0.030000000447034835,\n  0.030000000447034835,\n  0.030000000447034835,\n  0.020000000298023225,\n  0.030000000447034835,\n  0.030000000447034835,\n  0.030000000447034835,\n  0.020000000298023225,\n  0.020000000298023225,\n  0.020000000298023225,\n  0.020000000298023225,\n  0.030000000447034835,\n  0.030000000447034835,\n  0.020000000298023225,\n  0.010000000149011612,\n  0.010000000149011612,\n  0.010000000149011612,\n  0.010000000149011612,\n  0.020000000298023225,\n  0.020000000298023225,\n  0.020000000298023225,\n  0.010000000149011612,\n  0.010000000149011612,\n  0.010000000149011612,\n  0.010000000149011612,\n  0.020000000298023225,\n  0.020000000298023225,\n  0.030000000447034835,\n  0.020000000298023225,\n  0.020000000298023225,\n  0.029000000469386576,\n  0.029000000469386576,\n  0.029000000469386576,\n  0.029000000469386576,\n  0.029000000469386576,\n  0.019000000320374966,\n  0.019000000320374966,\n  0.009000000171363353,\n  0.009000000171363353,\n  0.009000000171363353,\n  0.0,\n  0.009000000171363353,\n  0.009000000171363353,\n  0.009000000171363353,\n  0.009000000171363353,\n  0.019000000320374966,\n  0.019000000320374966,\n  0.029000000469386576,\n  0.029000000469386576,\n  0.03900000061839819,\n  0.03900000061839819,\n  0.030000000447034835,\n  0.030000000447034835,\n  0.030000000447034835,\n  0.030000000447034835,\n  0.020000000298023225,\n  0.030000000447034835,\n  0.029000000469386576,\n  0.029000000469386576,\n  0.019000000320374966,\n  0.019000000320374966,\n  0.019000000320374966,\n  0.019000000320374966,\n  0.019000000320374966,\n  0.019000000320374966,\n  0.019000000320374966,\n  0.009000000171363353,\n  0.0,\n  0.0,\n  0.0,\n  0.0,\n  0.0,\n  0.0,\n  0.0,\n  0.0,\n  0.0,\n  0.0,\n  0.0,\n  0.0,\n  0.0,\n  0.009000000171363353,\n  0.019000000320374966,\n  0.019000000320374966,\n  0.019000000320374966,\n  0.029000000469386576,\n  0.029000000469386576,\n  0.029000000469386576,\n  0.03800000064074993,\n  0.05800000093877315,\n  0.05800000093877315,\n  0.059000000916421415,\n  0.049000000767409804,\n  0.049000000767409804,\n  0.049000000767409804,\n  0.03900000061839819,\n  0.03900000061839819,\n  0.03900000061839819,\n  0.030000000447034835,\n  0.010000000149011612,\n  0.010000000149011612,\n  0.010000000149011612,\n  0.010000000149011612,\n  0.010000000149011612,\n  0.010000000149011612,\n  0.010000000149011612,\n  0.010000000149011612,\n  0.010000000149011612,\n  0.010000000149011612,\n  0.010000000149011612,\n  0.019000000320374966,\n  0.009000000171363353,\n  0.009000000171363353,\n  0.009000000171363353,\n  0.009000000171363353,\n  0.009000000171363353,\n  0.009000000171363353,\n  0.009000000171363353,\n  0.009000000171363353,\n  0.019000000320374966,\n  0.010000000149011612,\n  0.010000000149011612,\n  0.010000000149011612,\n  0.010000000149011612,\n  0.020000000298023225,\n  0.020000000298023225,\n  0.020000000298023225,\n  0.020000000298023225,\n  0.020000000298023225,\n  0.020000000298023225,\n  0.020000000298023225,\n  0.020000000298023225,\n  0.020000000298023225,\n  0.020000000298023225,\n  0.010000000149011612,\n  0.010000000149011612,\n  0.010000000149011612,\n  0.010000000149011612,\n  0.010000000149011612,\n  0.0,\n  0.0,\n  0.0,\n  0.0,\n  0.0,\n  0.010000000149011612,\n  0.010000000149011612,\n  0.010000000149011612,\n  0.010000000149011612,\n  0.010000000149011612,\n  0.020000000298023225,\n  0.020000000298023225,\n  0.020000000298023225,\n  0.020000000298023225,\n  0.020000000298023225,\n  0.010000000149011612,\n  0.010000000149011612,\n  0.010000000149011612,\n  0.010000000149011612,\n  0.010000000149011612,\n  0.0,\n  0.0,\n  0.0,\n  0.0,\n  0.0,\n  0.010000000149011612,\n  0.010000000149011612,\n  0.010000000149011612,\n  0.010000000149011612,\n  0.010000000149011612,\n  0.010000000149011612,\n  0.010000000149011612,\n  0.019000000320374966,\n  0.019000000320374966,\n  0.019000000320374966,\n  0.009000000171363353,\n  0.009000000171363353,\n  0.009000000171363353,\n  0.009000000171363353,\n  0.009000000171363353,\n  0.009000000171363353,\n  0.009000000171363353,\n  0.0,\n  0.0,\n  0.009000000171363353,\n  0.009000000171363353,\n  0.019000000320374966,\n  0.019000000320374966,\n  0.019000000320374966,\n  0.019000000320374966,\n  0.019000000320374966,\n  0.019000000320374966,\n  0.019000000320374966,\n  0.019000000320374966,\n  0.010000000149011612,\n  0.010000000149011612,\n  0.0,\n  0.0,\n  0.010000000149011612,\n  0.010000000149011612,\n  0.010000000149011612,\n  0.019000000320374966,\n  0.019000000320374966,\n  0.019000000320374966,\n  0.019000000320374966,\n  0.019000000320374966,\n  0.019000000320374966,\n  0.019000000320374966,\n  0.009000000171363353,\n  0.009000000171363353,\n  0.009000000171363353,\n  0.0,\n  0.0,\n  0.0,\n  0.0,\n  0.0,\n  0.010000000149011612,\n  0.010000000149011612,\n  0.010000000149011612,\n  0.010000000149011612,\n  0.010000000149011612,\n  0.010000000149011612,\n  0.010000000149011612,\n  0.020000000298023225,\n  0.020000000298023225,\n  0.020000000298023225,\n  0.010000000149011612,\n  0.010000000149011612,\n  0.010000000149011612,\n  0.010000000149011612,\n  0.010000000149011612,\n  0.010000000149011612,\n  0.020000000298023225,\n  0.010000000149011612,\n  0.010000000149011612,\n  0.010000000149011612,\n  0.020000000298023225,\n  0.020000000298023225,\n  0.030000000447034835,\n  0.030000000447034835,\n  0.030000000447034835,\n  0.030000000447034835,\n  0.020000000298023225,\n  0.020000000298023225,\n  0.020000000298023225,\n  0.030000000447034835,\n  0.020000000298023225,\n  0.020000000298023225,\n  0.010000000149011612,\n  0.010000000149011612,\n  0.010000000149011612,\n  0.010000000149011612,\n  0.010000000149011612,\n  0.010000000149011612,\n  0.010000000149011612,\n  0.0,\n  0.0,\n  0.010000000149011612,\n  0.010000000149011612,\n  0.010000000149011612,\n  0.010000000149011612,\n  0.010000000149011612,\n  0.010000000149011612,\n  0.010000000149011612,\n  0.01900000050663948,\n  0.01900000050663948,\n  0.01900000050663948,\n  0.00900000035762787,\n  0.00900000035762787,\n  0.00900000035762787,\n  0.01800000052899122,\n  0.01800000052899122,\n  0.01800000052899122,\n  0.01800000052899122,\n  0.009000000171363353,\n  0.009000000171363353,\n  0.009000000171363353,\n  0.009000000171363353,\n  0.009000000171363353,\n  0.009000000171363353,\n  0.0,\n  0.0,\n  0.0,\n  0.0,\n  0.0,\n  0.0,\n  0.0,\n  0.0,\n  0.0,\n  0.0,\n  0.0,\n  0.0,\n  0.0,\n  0.0,\n  0.0,\n  0.0,\n  0.00900000035762787,\n  0.00900000035762787,\n  0.00900000035762787,\n  0.01900000050663948,\n  0.029000000655651094,\n  0.039000000804662704,\n  0.039000000804662704,\n  0.039000000804662704,\n  0.039000000804662704,\n  0.039000000804662704,\n  0.030000000447034835,\n  0.030000000447034835,\n  0.030000000447034835,\n  0.020000000298023225,\n  0.010000000149011612,\n  0.0,\n  0.0,\n  0.0,\n  0.0,\n  0.0,\n  0.0,\n  0.0,\n  0.0,\n  0.0,\n  0.0,\n  0.0,\n  0.0,\n  0.010000000149011612,\n  0.010000000149011612,\n  0.010000000149011612,\n  0.010000000149011612,\n  0.010000000149011612,\n  0.010000000149011612,\n  0.010000000149011612,\n  0.010000000149011612,\n  0.010000000149011612,\n  0.010000000149011612,\n  0.0,\n  0.0,\n  0.0,\n  0.010000000149011612,\n  0.010000000149011612,\n  0.010000000149011612,\n  0.010000000149011612,\n  0.010000000149011612,\n  0.010000000149011612,\n  0.010000000149011612,\n  0.010000000149011612,\n  0.020000000298023225,\n  0.020000000298023225,\n  0.010000000149011612,\n  0.010000000149011612,\n  0.010000000149011612,\n  0.020000000298023225,\n  0.020000000298023225,\n  0.030000000447034835,\n  0.04000000059604645,\n  0.04000000059604645,\n  0.030000000447034835,\n  0.030000000447034835,\n  0.030000000447034835,\n  0.030000000447034835,\n  0.030000000447034835,\n  0.029000000655651094,\n  0.029000000655651094,\n  0.01900000050663948,\n  0.00900000035762787,\n  0.00900000035762787,\n  0.01800000052899122,\n  0.01800000052899122,\n  0.01800000052899122,\n  0.01800000052899122,\n  0.01800000052899122,\n  0.009000000171363353,\n  0.009000000171363353,\n  0.009000000171363353,\n  0.009000000171363353,\n  0.009000000171363353,\n  0.0,\n  0.010000000149011612,\n  0.010000000149011612,\n  0.010000000149011612,\n  0.010000000149011612,\n  0.010000000149011612,\n  0.010000000149011612,\n  0.020000000298023225,\n  0.020000000298023225,\n  0.020000000298023225,\n  0.020000000298023225,\n  0.020000000298023225,\n  0.020000000298023225,\n  0.020000000298023225,\n  0.020000000298023225,\n  0.020000000298023225,\n  0.020000000298023225,\n  0.020000000298023225,\n  0.020000000298023225,\n  0.020000000298023225,\n  0.020000000298023225,\n  0.010000000149011612,\n  0.010000000149011612,\n  0.010000000149011612,\n  0.010000000149011612,\n  0.010000000149011612,\n  0.010000000149011612,\n  0.010000000149011612,\n  0.010000000149011612,\n  0.010000000149011612,\n  0.010000000149011612,\n  0.010000000149011612,\n  0.010000000149011612,\n  0.010000000149011612,\n  0.010000000149011612,\n  0.010000000149011612,\n  0.020000000298023225,\n  0.010000000149011612,\n  0.010000000149011612,\n  0.010000000149011612,\n  0.010000000149011612,\n  0.010000000149011612,\n  0.010000000149011612,\n  0.010000000149011612,\n  0.010000000149011612,\n  0.010000000149011612,\n  0.0,\n  0.0,\n  0.0,\n  0.0,\n  0.010000000149011612,\n  0.010000000149011612,\n  0.010000000149011612,\n  0.020000000298023225,\n  0.030000000447034835,\n  0.030000000447034835,\n  0.030000000447034835,\n  0.030000000447034835,\n  0.04000000059604645,\n  0.04000000059604645,\n  0.030000000447034835,\n  0.030000000447034835,\n  0.030000000447034835,\n  0.020000000298023225,\n  0.010000000149011612,\n  0.010000000149011612,\n  0.010000000149011612,\n  0.01900000050663948,\n  0.00900000035762787,\n  0.01800000052899122,\n  0.01800000052899122,\n  0.01800000052899122,\n  0.01800000052899122,\n  0.01800000052899122,\n  0.01800000052899122,\n  0.01800000052899122,\n  0.01800000052899122,\n  0.019000000320374966,\n  0.029000000469386576,\n  0.020000000298023225,\n  0.020000000298023225,\n  0.020000000298023225,\n  0.020000000298023225,\n  0.020000000298023225,\n  0.020000000298023225,\n  0.030000000447034835,\n  0.030000000447034835,\n  0.020000000298023225,\n  0.010000000149011612,\n  0.010000000149011612,\n  0.010000000149011612,\n  0.010000000149011612,\n  0.010000000149011612,\n  0.010000000149011612,\n  0.020000000298023225,\n  0.010000000149011612,\n  0.010000000149011612,\n  0.010000000149011612,\n  0.010000000149011612,\n  0.010000000149011612,\n  0.010000000149011612,\n  0.010000000149011612,\n  0.010000000149011612,\n  0.010000000149011612,\n  0.0,\n  0.0,\n  0.0,\n  0.0,\n  0.0,\n  0.0,\n  0.0,\n  0.0,\n  0.0,\n  0.010000000149011612,\n  0.010000000149011612,\n  0.010000000149011612,\n  0.010000000149011612,\n  0.010000000149011612,\n  0.010000000149011612,\n  0.010000000149011612,\n  0.010000000149011612,\n  0.010000000149011612,\n  0.010000000149011612,\n  0.010000000149011612,\n  0.010000000149011612,\n  0.01900000050663948,\n  0.01900000050663948,\n  0.01900000050663948,\n  0.01900000050663948,\n  0.01900000050663948,\n  0.029000000655651094,\n  0.029000000655651094,\n  0.029000000655651094,\n  0.01900000050663948,\n  0.029000000655651094,\n  0.020000000298023225,\n  0.020000000298023225,\n  0.020000000298023225,\n  0.020000000298023225,\n  0.030000000447034835,\n  0.020000000298023225,\n  0.020000000298023225,\n  0.020000000298023225,\n  0.020000000298023225,\n  0.010000000149011612,\n  0.010000000149011612,\n  0.020000000298023225,\n  0.030000000447034835,\n  0.030000000447034835,\n  0.020000000298023225,\n  0.020000000298023225,\n  0.020000000298023225,\n  0.030000000447034835,\n  0.030000000447034835,\n  0.030000000447034835,\n  0.030000000447034835,\n  0.020000000298023225,\n  0.010000000149011612,\n  0.010000000149011612,\n  0.010000000149011612,\n  0.010000000149011612,\n  0.010000000149011612,\n  0.0,\n  0.0,\n  0.0,\n  0.0,\n  0.0,\n  0.0,\n  0.0,\n  0.0,\n  0.0,\n  0.010000000149011612,\n  0.010000000149011612,\n  0.010000000149011612,\n  0.010000000149011612,\n  0.010000000149011612,\n  0.010000000149011612,\n  0.010000000149011612,\n  0.010000000149011612,\n  0.010000000149011612,\n  0.010000000149011612,\n  0.0,\n  0.0,\n  0.0,\n  0.0,\n  0.0,\n  0.0,\n  0.0,\n  0.0,\n  0.0,\n  0.0,\n  0.0,\n  0.0,\n  0.0,\n  0.0,\n  0.0,\n  0.0,\n  0.0,\n  0.010000000149011612,\n  0.010000000149011612,\n  0.010000000149011612,\n  0.020000000298023225,\n  0.020000000298023225,\n  0.020000000298023225,\n  0.020000000298023225,\n  0.020000000298023225,\n  0.020000000298023225,\n  0.020000000298023225,\n  0.010000000149011612,\n  0.010000000149011612,\n  0.010000000149011612,\n  0.0,\n  0.0,\n  0.0,\n  0.0,\n  0.0,\n  0.0,\n  0.0,\n  0.0,\n  0.0,\n  0.0,\n  0.0,\n  0.0,\n  0.0,\n  0.010000000149011612,\n  0.010000000149011612,\n  0.010000000149011612,\n  0.010000000149011612,\n  0.010000000149011612,\n  0.010000000149011612,\n  0.010000000149011612,\n  0.010000000149011612,\n  0.010000000149011612,\n  0.010000000149011612,\n  0.0,\n  0.0,\n  0.0,\n  0.0,\n  0.0,\n  0.0,\n  0.0,\n  0.0,\n  0.010000000149011612,\n  0.010000000149011612,\n  0.010000000149011612,\n  0.020000000298023225,\n  0.020000000298023225,\n  0.020000000298023225,\n  0.020000000298023225,\n  0.029000000655651094,\n  0.039000000804662704,\n  0.039000000804662704,\n  0.029000000655651094,\n  0.029000000655651094,\n  0.029000000655651094,\n  0.01900000050663948,\n  0.01900000050663948,\n  0.01900000050663948,\n  0.029000000655651094,\n  0.020000000298023225,\n  0.010000000149011612,\n  0.010000000149011612,\n  0.010000000149011612,\n  0.010000000149011612,\n  0.010000000149011612,\n  0.010000000149011612,\n  0.010000000149011612,\n  0.010000000149011612,\n  0.0,\n  0.0,\n  0.009000000171363353,\n  0.009000000171363353,\n  0.009000000171363353,\n  0.009000000171363353,\n  0.009000000171363353,\n  0.009000000171363353,\n  0.009000000171363353,\n  0.009000000171363353,\n  0.009000000171363353,\n  0.019000000320374966,\n  0.010000000149011612,\n  0.010000000149011612,\n  0.010000000149011612,\n  0.010000000149011612,\n  0.010000000149011612,\n  0.010000000149011612,\n  0.010000000149011612,\n  0.010000000149011612,\n  0.010000000149011612,\n  0.0,\n  0.0,\n  0.0,\n  0.00900000035762787,\n  0.00900000035762787,\n  0.00900000035762787,\n  0.00900000035762787,\n  0.00900000035762787,\n  0.00900000035762787,\n  0.00900000035762787,\n  0.00900000035762787,\n  0.00900000035762787,\n  0.00900000035762787,\n  0.0,\n  0.0,\n  0.0,\n  0.0,\n  0.0,\n  0.0,\n  0.0,\n  0.0,\n  0.0,\n  0.0,\n  0.010000000149011612,\n  0.010000000149011612,\n  0.010000000149011612,\n  0.010000000149011612,\n  0.01900000050663948,\n  0.01900000050663948,\n  0.01900000050663948,\n  0.01900000050663948,\n  0.01900000050663948,\n  0.01900000050663948,\n  0.01900000050663948,\n  0.01900000050663948,\n  0.01900000050663948,\n  0.01900000050663948,\n  0.010000000149011612,\n  0.010000000149011612,\n  0.010000000149011612,\n  0.010000000149011612,\n  0.010000000149011612,\n  0.020000000298023225,\n  0.010000000149011612,\n  0.010000000149011612,\n  0.010000000149011612,\n  0.010000000149011612,\n  0.010000000149011612,\n  0.010000000149011612,\n  0.010000000149011612,\n  0.019000000320374966,\n  0.019000000320374966,\n  0.009000000171363353,\n  0.009000000171363353,\n  0.009000000171363353,\n  0.009000000171363353,\n  0.009000000171363353,\n  0.009000000171363353,\n  0.009000000171363353,\n  0.009000000171363353,\n  0.0,\n  0.0,\n  0.0,\n  0.0,\n  0.0,\n  0.010000000149011612,\n  0.010000000149011612,\n  0.010000000149011612,\n  0.010000000149011612,\n  0.010000000149011612,\n  0.010000000149011612,\n  0.010000000149011612,\n  0.010000000149011612,\n  0.010000000149011612,\n  0.010000000149011612,\n  0.0,\n  0.0,\n  0.0,\n  0.0,\n  0.0,\n  0.0,\n  0.0,\n  0.0,\n  0.0,\n  0.010000000149011612,\n  0.020000000298023225,\n  0.020000000298023225,\n  0.020000000298023225,\n  0.020000000298023225,\n  0.020000000298023225,\n  0.020000000298023225,\n  0.020000000298023225,\n  0.020000000298023225,\n  0.020000000298023225,\n  0.010000000149011612,\n  0.0,\n  0.010000000149011612,\n  0.010000000149011612,\n  0.020000000298023225,\n  0.020000000298023225,\n  0.020000000298023225,\n  0.020000000298023225,\n  0.020000000298023225,\n  0.020000000298023225,\n  0.020000000298023225,\n  0.020000000298023225,\n  0.010000000149011612,\n  0.010000000149011612,\n  0.0,\n  0.0,\n  0.0,\n  0.0,\n  0.009000000171363353,\n  0.009000000171363353,\n  0.009000000171363353,\n  0.009000000171363353,\n  0.009000000171363353,\n  0.009000000171363353,\n  0.009000000171363353,\n  0.009000000171363353,\n  0.009000000171363353,\n  0.009000000171363353,\n  0.010000000149011612,\n  0.010000000149011612,\n  0.010000000149011612,\n  0.010000000149011612,\n  0.010000000149011612,\n  0.010000000149011612,\n  0.020000000298023225,\n  0.020000000298023225,\n  0.020000000298023225,\n  0.020000000298023225,\n  0.010000000149011612,\n  0.010000000149011612,\n  0.010000000149011612,\n  0.010000000149011612,\n  0.010000000149011612,\n  0.010000000149011612,\n  0.0,\n  0.0,\n  0.0,\n  0.0,\n  0.0,\n  0.0,\n  0.010000000149011612,\n  0.010000000149011612,\n  0.010000000149011612,\n  0.010000000149011612,\n  0.020000000298023225,\n  0.020000000298023225,\n  0.020000000298023225,\n  0.020000000298023225,\n  0.020000000298023225,\n  0.020000000298023225,\n  0.010000000149011612,\n  0.010000000149011612,\n  0.010000000149011612,\n  0.020000000298023225,\n  0.010000000149011612,\n  0.01900000050663948,\n  0.01900000050663948,\n  0.01900000050663948,\n  0.01900000050663948,\n  0.01900000050663948,\n  0.01900000050663948,\n  0.01900000050663948,\n  0.01900000050663948,\n  0.00900000035762787,\n  0.01900000050663948,\n  0.010000000149011612,\n  0.010000000149011612,\n  0.010000000149011612,\n  0.010000000149011612,\n  0.020000000298023225,\n  0.020000000298023225,\n  0.020000000298023225,\n  0.020000000298023225,\n  0.020000000298023225,\n  0.020000000298023225,\n  0.020000000298023225,\n  0.020000000298023225,\n  0.020000000298023225,\n  0.020000000298023225,\n  0.010000000149011612,\n  0.010000000149011612,\n  0.010000000149011612,\n  0.010000000149011612,\n  0.010000000149011612,\n  0.0,\n  0.0,\n  0.0,\n  0.0,\n  0.0,\n  0.0,\n  0.0,\n  0.0,\n  0.0,\n  0.0,\n  0.0,\n  0.0,\n  0.0,\n  0.0,\n  0.0,\n  0.0,\n  0.0,\n  0.0,\n  0.0,\n  0.0,\n  0.010000000149011612,\n  0.010000000149011612,\n  0.010000000149011612,\n  0.020000000298023225,\n  0.020000000298023225,\n  0.020000000298023225,\n  0.020000000298023225,\n  0.020000000298023225,\n  0.020000000298023225,\n  0.020000000298023225,\n  0.010000000149011612,\n  0.010000000149011612,\n  0.010000000149011612,\n  0.0,\n  0.0,\n  0.0,\n  0.0,\n  0.0,\n  0.0,\n  0.0,\n  0.0,\n  0.0,\n  0.0,\n  0.0,\n  0.0,\n  0.0,\n  0.0,\n  0.0,\n  0.0,\n  0.0,\n  0.010000000149011612,\n  0.010000000149011612,\n  0.010000000149011612,\n  0.010000000149011612,\n  0.010000000149011612,\n  0.010000000149011612,\n  0.010000000149011612,\n  0.010000000149011612,\n  0.010000000149011612,\n  0.010000000149011612,\n  0.0,\n  0.0,\n  0.0,\n  0.0,\n  0.0,\n  0.0,\n  0.0,\n  0.0,\n  0.009000000171363353,\n  0.009000000171363353,\n  0.009000000171363353,\n  0.009000000171363353,\n  0.009000000171363353,\n  0.009000000171363353,\n  0.009000000171363353,\n  0.009000000171363353,\n  0.009000000171363353,\n  0.009000000171363353,\n  0.0,\n  0.0,\n  0.0,\n  0.0,\n  0.0,\n  0.0,\n  0.0,\n  0.0,\n  0.0,\n  0.0,\n  0.0,\n  0.0,\n  0.0,\n  0.0,\n  0.0,\n  0.0,\n  0.0,\n  0.0,\n  0.0,\n  0.0,\n  0.0,\n  0.0,\n  0.0,\n  0.0,\n  ...])"
     },
     "execution_count": 3,
     "metadata": {},
     "output_type": "execute_result"
    }
   ],
   "source": [
    "env_info = env.reset(train_mode=True)[brain_name]\n",
    "maddpg_agent = MADDPG(state_size, action_size, num_agents, epsilon=1.0, random_seed=88)\n",
    "maddpg_agent.train(env,brain_name)\n"
   ],
   "metadata": {
    "collapsed": false,
    "pycharm": {
     "name": "#%%\n"
    }
   }
  },
  {
   "cell_type": "markdown",
   "source": [
    "### 4. Show Results of Training"
   ],
   "metadata": {
    "collapsed": false,
    "pycharm": {
     "name": "#%% md\n"
    }
   }
  },
  {
   "cell_type": "code",
   "execution_count": 3,
   "outputs": [],
   "source": [],
   "metadata": {
    "collapsed": false,
    "pycharm": {
     "name": "#%%\n"
    }
   }
  },
  {
   "cell_type": "markdown",
   "source": [
    "### 5. Test the Trained Agent"
   ],
   "metadata": {
    "collapsed": false,
    "pycharm": {
     "name": "#%% md\n"
    }
   }
  },
  {
   "cell_type": "code",
   "execution_count": 3,
   "outputs": [],
   "source": [],
   "metadata": {
    "collapsed": false,
    "pycharm": {
     "name": "#%%\n"
    }
   }
  },
  {
   "cell_type": "markdown",
   "metadata": {},
   "source": [
    "When finished close the environment."
   ]
  },
  {
   "cell_type": "code",
   "execution_count": 4,
   "metadata": {
    "pycharm": {
     "name": "#%%\n"
    }
   },
   "outputs": [],
   "source": [
    "env.close()"
   ]
  }
 ],
 "metadata": {
  "kernelspec": {
   "display_name": "Python 3",
   "language": "python",
   "name": "python3"
  },
  "language_info": {
   "codemirror_mode": {
    "name": "ipython",
    "version": 3
   },
   "file_extension": ".py",
   "mimetype": "text/x-python",
   "name": "python",
   "nbconvert_exporter": "python",
   "pygments_lexer": "ipython3",
   "version": "3.6.4"
  }
 },
 "nbformat": 4,
 "nbformat_minor": 2
}