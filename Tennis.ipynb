{
 "cells": [
  {
   "cell_type": "markdown",
   "source": [
    "# Collaboration and Competition\n",
    "\n",
    "-----\n",
    "\n",
    "This notebook explores and solves the third project in the [Deep Reinforcement Learning Nanodegree](https://www.udacity.com/course/deep-reinforcement-learning-nanodegree--nd893) program called Collaboration and Competition.\n",
    "This project involves learning in an environment with multiple agents. The starter code for this project can be found [here](https://github.com/udacity/deep-reinforcement-learning/tree/master/p3_collab-compet).\n",
    "\n",
    "### 1. Import / Setup all necessary packages and notebook variables\n",
    "\n",
    "If you have any trouble importing these packages make sure you check the README file and have all the necessary dependencies.\n",
    "**Note:** To set up the unity environment the UnityEnvironment(filepath) must match the location of the Unity environment that you downloaded from the README."
   ],
   "metadata": {
    "collapsed": false
   }
  },
  {
   "cell_type": "code",
   "execution_count": 1,
   "outputs": [
    {
     "name": "stderr",
     "output_type": "stream",
     "text": [
      "INFO:unityagents:\n",
      "'Academy' started successfully!\n",
      "Unity Academy name: Academy\n",
      "        Number of Brains: 1\n",
      "        Number of External Brains : 1\n",
      "        Lesson number : 0\n",
      "        Reset Parameters :\n",
      "\t\t\n",
      "Unity brain name: TennisBrain\n",
      "        Number of Visual Observations (per agent): 0\n",
      "        Vector Observation space type: continuous\n",
      "        Vector Observation space size (per agent): 8\n",
      "        Number of stacked Vector Observation: 3\n",
      "        Vector Action space type: continuous\n",
      "        Vector Action space size (per agent): 2\n",
      "        Vector Action descriptions: , \n"
     ]
    }
   ],
   "source": [
    "from unityagents import UnityEnvironment\n",
    "from agents import MADDPG\n",
    "import matplotlib.pyplot as plt\n",
    "import numpy as np\n",
    "import os\n",
    "import torch\n",
    "\n",
    "#----- Setup Notebook Variables -----#\n",
    "path = os.path.abspath(os.getcwd())\n",
    "env = UnityEnvironment(f'{path}\\\\Tennis_Windows_x86_64\\\\Tennis.exe')\n",
    "brain_name = env.brain_names[0]\n",
    "brain = env.brains[brain_name]\n",
    "examine_environment = True\n",
    "train_agent = True\n",
    "view_results = True\n",
    "watch_trained = True"
   ],
   "metadata": {
    "collapsed": false,
    "pycharm": {
     "name": "#%%\n"
    }
   }
  },
  {
   "cell_type": "markdown",
   "source": [
    "### 2. Examine the environment\n",
    "\n",
    "In this environment, two agents control rackets to bounce a ball over a net.\n",
    "If an agent hits the ball over the net, it receives a reward of +0.1.  If an agent lets a ball hit the ground or hits the ball out of bounds, it receives a reward of -0.01.\n",
    "Thus, this is a cooperative environment and the goal of each agent is to keep the ball in play.\n",
    "\n",
    "The observation space consists of variables corresponding to the position and velocity of the ball and racket.\n",
    "Two continuous actions are available, corresponding to movement toward (or away from) the net, and jumping.\n",
    "\n",
    "Below is additional information about the environment"
   ],
   "metadata": {
    "collapsed": false
   }
  },
  {
   "cell_type": "code",
   "execution_count": 2,
   "outputs": [
    {
     "name": "stdout",
     "output_type": "stream",
     "text": [
      "Number of agents: 2\n",
      "Size of each action per agent: 2\n",
      "Size of observation space per agent: 24\n",
      "Example State: [ 0.          0.          0.          0.          0.          0.\n",
      "  0.          0.          0.          0.          0.          0.\n",
      "  0.          0.          0.          0.         -6.65278625 -1.5\n",
      " -0.          0.          6.83172083  6.         -0.          0.        ]\n",
      "Action Example: [[ 0.72241644 -1.        ]\n",
      " [ 1.         -0.08596895]]\n",
      "Shape of states: (2, 24), Shape of next_states: (2, 24)\n",
      "Example of rewards: [0.0, -0.009999999776482582]\n",
      "Example of Dones: [True, True]\n"
     ]
    }
   ],
   "source": [
    "if examine_environment:\n",
    "    #-------         Environment Details        -------#\n",
    "    env_info = env.reset(train_mode=True)[brain_name]\n",
    "    num_agents = len(env_info.agents)\n",
    "    action_size = brain.vector_action_space_size\n",
    "    states = env_info.vector_observations\n",
    "    state_size = states.shape[1]\n",
    "    print(f'Number of agents: {num_agents}')\n",
    "    print(f'Size of each action per agent: {action_size}')\n",
    "    print(f'Size of observation space per agent: {state_size}')\n",
    "    print(f'Example State: {states[0]}')\n",
    "\n",
    "    #-------        Untrained Agent Example     -------#\n",
    "    for i in range(1, 4):\n",
    "        env_info = env.reset(train_mode=False)[brain_name]\n",
    "        states = env_info.vector_observations\n",
    "        scores = np.zeros(num_agents)\n",
    "        while True:\n",
    "            actions = np.random.randn(num_agents, action_size)\n",
    "            actions = np.clip(actions, -1, 1)\n",
    "            env_info = env.step(actions)[brain_name]\n",
    "            next_states = env_info.vector_observations\n",
    "            rewards = env_info.rewards                         # get reward (for each agent)\n",
    "            dones = env_info.local_done                        # see if episode finished\n",
    "            scores += env_info.rewards                         # update the score (for each agent)\n",
    "            states = next_states                               # roll over states to next time step\n",
    "            if np.any(dones):                                  # exit loop if episode finished\n",
    "                break\n",
    "\n",
    "        # Show Example of what environment returns\n",
    "        if i == 1:\n",
    "            print(f'Action Example: {actions}')\n",
    "            print(f'Shape of states: {states.shape}, Shape of next_states: {next_states.shape}')\n",
    "            print(f'Example of rewards: {rewards}')\n",
    "            print(f'Example of Dones: {dones}')\n"
   ],
   "metadata": {
    "collapsed": false,
    "pycharm": {
     "name": "#%%\n"
    }
   }
  },
  {
   "cell_type": "markdown",
   "source": [
    "### 3. Train an Agent"
   ],
   "metadata": {
    "collapsed": false
   }
  },
  {
   "cell_type": "code",
   "execution_count": null,
   "outputs": [
    {
     "name": "stdout",
     "output_type": "stream",
     "text": [
      "Episode: 10 \tAverage Score: 0.01, Max Last 100: 0.1\n",
      "Episode: 20 \tAverage Score: 0.01, Max Last 100: 0.1\n",
      "Episode: 30 \tAverage Score: 0.013, Max Last 100: 0.1\n",
      "Episode: 40 \tAverage Score: 0.01, Max Last 100: 0.1\n",
      "Episode: 50 \tAverage Score: 0.01, Max Last 100: 0.1\n",
      "Episode: 60 \tAverage Score: 0.01, Max Last 100: 0.1\n",
      "Episode: 70 \tAverage Score: 0.01, Max Last 100: 0.1\n",
      "Episode: 80 \tAverage Score: 0.011, Max Last 100: 0.1\n",
      "Episode: 90 \tAverage Score: 0.012, Max Last 100: 0.1\n",
      "Episode: 100 \tAverage Score: 0.011, Max Last 100: 0.1\n",
      "Episode: 110 \tAverage Score: 0.01, Max Last 100: 0.1\n",
      "Episode: 120 \tAverage Score: 0.01, Max Last 100: 0.1\n",
      "Episode: 130 \tAverage Score: 0.01, Max Last 100: 0.1\n",
      "Episode: 140 \tAverage Score: 0.011, Max Last 100: 0.1\n",
      "Episode: 150 \tAverage Score: 0.01, Max Last 100: 0.1\n",
      "Episode: 160 \tAverage Score: 0.01, Max Last 100: 0.1\n",
      "Episode: 170 \tAverage Score: 0.009, Max Last 100: 0.1\n",
      "Episode: 180 \tAverage Score: 0.008, Max Last 100: 0.1\n",
      "Episode: 190 \tAverage Score: 0.008, Max Last 100: 0.1\n",
      "Episode: 200 \tAverage Score: 0.009, Max Last 100: 0.1\n",
      "Episode: 210 \tAverage Score: 0.01, Max Last 100: 0.1\n",
      "Episode: 220 \tAverage Score: 0.01, Max Last 100: 0.1\n",
      "Episode: 230 \tAverage Score: 0.011, Max Last 100: 0.1\n",
      "Episode: 240 \tAverage Score: 0.011, Max Last 100: 0.1\n",
      "Episode: 250 \tAverage Score: 0.012, Max Last 100: 0.1\n",
      "Episode: 260 \tAverage Score: 0.011, Max Last 100: 0.1\n",
      "Episode: 270 \tAverage Score: 0.012, Max Last 100: 0.1\n",
      "Episode: 280 \tAverage Score: 0.012, Max Last 100: 0.1\n",
      "Episode: 290 \tAverage Score: 0.01, Max Last 100: 0.1\n",
      "Episode: 300 \tAverage Score: 0.01, Max Last 100: 0.1\n",
      "Episode: 310 \tAverage Score: 0.009, Max Last 100: 0.1\n",
      "Episode: 320 \tAverage Score: 0.01, Max Last 100: 0.1\n",
      "Episode: 330 \tAverage Score: 0.008, Max Last 100: 0.1\n",
      "Episode: 340 \tAverage Score: 0.007, Max Last 100: 0.1\n",
      "Episode: 350 \tAverage Score: 0.008, Max Last 100: 0.1\n",
      "Episode: 360 \tAverage Score: 0.009, Max Last 100: 0.1\n",
      "Episode: 370 \tAverage Score: 0.009, Max Last 100: 0.1\n",
      "Episode: 380 \tAverage Score: 0.009, Max Last 100: 0.1\n",
      "Episode: 390 \tAverage Score: 0.01, Max Last 100: 0.1\n",
      "Episode: 400 \tAverage Score: 0.009, Max Last 100: 0.1\n",
      "Episode: 410 \tAverage Score: 0.009, Max Last 100: 0.1\n",
      "Episode: 420 \tAverage Score: 0.008, Max Last 100: 0.1\n",
      "Episode: 430 \tAverage Score: 0.007, Max Last 100: 0.1\n",
      "Episode: 440 \tAverage Score: 0.008, Max Last 100: 0.1\n",
      "Episode: 450 \tAverage Score: 0.009, Max Last 100: 0.1\n",
      "Episode: 460 \tAverage Score: 0.008, Max Last 100: 0.1\n",
      "Episode: 470 \tAverage Score: 0.007, Max Last 100: 0.1\n",
      "Episode: 480 \tAverage Score: 0.006, Max Last 100: 0.1\n",
      "Episode: 490 \tAverage Score: 0.005, Max Last 100: 0.1\n",
      "Episode: 500 \tAverage Score: 0.005, Max Last 100: 0.1\n",
      "Episode: 510 \tAverage Score: 0.006, Max Last 100: 0.1\n",
      "Episode: 520 \tAverage Score: 0.005, Max Last 100: 0.1\n",
      "Episode: 530 \tAverage Score: 0.005, Max Last 100: 0.1\n",
      "Episode: 540 \tAverage Score: 0.004, Max Last 100: 0.1\n",
      "Episode: 550 \tAverage Score: 0.003, Max Last 100: 0.1\n",
      "Episode: 560 \tAverage Score: 0.004, Max Last 100: 0.1\n",
      "Episode: 570 \tAverage Score: 0.006, Max Last 100: 0.1\n",
      "Episode: 580 \tAverage Score: 0.006, Max Last 100: 0.1\n",
      "Episode: 590 \tAverage Score: 0.006, Max Last 100: 0.1\n",
      "Episode: 600 \tAverage Score: 0.006, Max Last 100: 0.1\n",
      "Episode: 610 \tAverage Score: 0.007, Max Last 100: 0.1\n",
      "Episode: 620 \tAverage Score: 0.008, Max Last 100: 0.1\n",
      "Episode: 630 \tAverage Score: 0.008, Max Last 100: 0.1\n",
      "Episode: 640 \tAverage Score: 0.01, Max Last 100: 0.1\n",
      "Episode: 650 \tAverage Score: 0.008, Max Last 100: 0.1\n",
      "Episode: 660 \tAverage Score: 0.007, Max Last 100: 0.1\n",
      "Episode: 670 \tAverage Score: 0.005, Max Last 100: 0.1\n",
      "Episode: 680 \tAverage Score: 0.005, Max Last 100: 0.1\n",
      "Episode: 690 \tAverage Score: 0.005, Max Last 100: 0.1\n",
      "Episode: 700 \tAverage Score: 0.006, Max Last 100: 0.1\n",
      "Episode: 710 \tAverage Score: 0.005, Max Last 100: 0.1\n",
      "Episode: 720 \tAverage Score: 0.007, Max Last 100: 0.1\n",
      "Episode: 730 \tAverage Score: 0.009, Max Last 100: 0.1\n",
      "Episode: 740 \tAverage Score: 0.011, Max Last 100: 0.1\n",
      "Episode: 750 \tAverage Score: 0.011, Max Last 100: 0.1\n",
      "Episode: 760 \tAverage Score: 0.012, Max Last 100: 0.1\n",
      "Episode: 770 \tAverage Score: 0.013, Max Last 100: 0.1\n",
      "Episode: 780 \tAverage Score: 0.014, Max Last 100: 0.1\n",
      "Episode: 790 \tAverage Score: 0.015, Max Last 100: 0.1\n",
      "Episode: 800 \tAverage Score: 0.015, Max Last 100: 0.1\n",
      "Episode: 810 \tAverage Score: 0.018, Max Last 100: 0.1\n",
      "Episode: 820 \tAverage Score: 0.015, Max Last 100: 0.1\n",
      "Episode: 830 \tAverage Score: 0.014, Max Last 100: 0.1\n",
      "Episode: 840 \tAverage Score: 0.01, Max Last 100: 0.1\n",
      "Episode: 850 \tAverage Score: 0.011, Max Last 100: 0.1\n",
      "Episode: 860 \tAverage Score: 0.011, Max Last 100: 0.1\n",
      "Episode: 870 \tAverage Score: 0.01, Max Last 100: 0.1\n",
      "Episode: 880 \tAverage Score: 0.011, Max Last 100: 0.1\n",
      "Episode: 890 \tAverage Score: 0.011, Max Last 100: 0.1\n",
      "Episode: 900 \tAverage Score: 0.011, Max Last 100: 0.1\n",
      "Episode: 910 \tAverage Score: 0.01, Max Last 100: 0.1\n",
      "Episode: 920 \tAverage Score: 0.01, Max Last 100: 0.1\n",
      "Episode: 930 \tAverage Score: 0.009, Max Last 100: 0.1\n",
      "Episode: 940 \tAverage Score: 0.011, Max Last 100: 0.1\n",
      "Episode: 950 \tAverage Score: 0.01, Max Last 100: 0.1\n",
      "Episode: 960 \tAverage Score: 0.013, Max Last 100: 0.1\n",
      "Episode: 970 \tAverage Score: 0.013, Max Last 100: 0.1\n",
      "Episode: 980 \tAverage Score: 0.011, Max Last 100: 0.1\n",
      "Episode: 990 \tAverage Score: 0.011, Max Last 100: 0.1\n",
      "Episode: 1000 \tAverage Score: 0.012, Max Last 100: 0.1\n",
      "Episode: 1010 \tAverage Score: 0.011, Max Last 100: 0.1\n",
      "Episode: 1020 \tAverage Score: 0.011, Max Last 100: 0.1\n",
      "Episode: 1030 \tAverage Score: 0.012, Max Last 100: 0.1\n",
      "Episode: 1040 \tAverage Score: 0.011, Max Last 100: 0.1\n",
      "Episode: 1050 \tAverage Score: 0.012, Max Last 100: 0.1\n",
      "Episode: 1060 \tAverage Score: 0.009, Max Last 100: 0.1\n",
      "Episode: 1070 \tAverage Score: 0.009, Max Last 100: 0.1\n",
      "Episode: 1080 \tAverage Score: 0.009, Max Last 100: 0.1\n",
      "Episode: 1090 \tAverage Score: 0.008, Max Last 100: 0.1\n",
      "Episode: 1100 \tAverage Score: 0.006, Max Last 100: 0.1\n",
      "Episode: 1110 \tAverage Score: 0.005, Max Last 100: 0.1\n",
      "Episode: 1120 \tAverage Score: 0.005, Max Last 100: 0.1\n",
      "Episode: 1130 \tAverage Score: 0.006, Max Last 100: 0.1\n",
      "Episode: 1140 \tAverage Score: 0.007, Max Last 100: 0.1\n",
      "Episode: 1150 \tAverage Score: 0.007, Max Last 100: 0.1\n"
     ]
    }
   ],
   "source": [
    "if train_agent:\n",
    "    env_info = env.reset(train_mode=True)[brain_name]\n",
    "    maddpg_agent = MADDPG(env_info.vector_observations.shape[1], brain.vector_action_space_size, len(env_info.agents), epsilon=6.0, seed=2)\n",
    "    maddpg_agent.train(env,brain_name)\n"
   ],
   "metadata": {
    "collapsed": false,
    "pycharm": {
     "name": "#%%\n",
     "is_executing": true
    }
   }
  },
  {
   "cell_type": "markdown",
   "source": [
    "### 4. Show Results of Training"
   ],
   "metadata": {
    "collapsed": false
   }
  },
  {
   "cell_type": "code",
   "execution_count": null,
   "outputs": [],
   "source": [
    "def graph_results(scores_filename, avgScores_filename, save_graph = True):\n",
    "    \"\"\" Graph results from training an Agent\n",
    "\n",
    "    :param scores_filename: filepath with episode scores\n",
    "    :param avgScores_filename: filepath with average (per 100) episode scores\n",
    "    :param save_graph: Bool for saving or just viewing graph\n",
    "    \"\"\"\n",
    "    # Read in scores from the files\n",
    "    with open(scores_filename) as f:\n",
    "        scores = [round(float(score),2) for score in f.read().splitlines()]\n",
    "    with open(avgScores_filename) as f:\n",
    "        avg_scores = [round(float(score),2) for score in f.read().splitlines()]\n",
    "\n",
    "    # Graph results\n",
    "    fig, ax = plt.subplots()\n",
    "    ax.set(xlabel=\"Episode #\", ylabel=\"Episode Scores\", title=\"MADDPG Agent Learning Curve\")\n",
    "    ax.grid()\n",
    "    ax.plot(np.arange(len(scores)), scores, label=\"Episode Scores\")\n",
    "    ax.plot(np.arange(len(avg_scores)), avg_scores, label=\"100 Episode Average\")\n",
    "    ax.plot(np.arange(len(scores)), np.ones(len(scores))*0.5, color=\"black\", linestyle=\"dashed\", label=\"Solved\")\n",
    "    ax.legend()\n",
    "    # Save graph results\n",
    "    if save_graph:\n",
    "        fig.savefig(f'{path}\\images\\MADDPG_results.png')\n",
    "    plt.show()\n",
    "\n",
    "def watch_trained(maddpg_agent, env, brain_name):\n",
    "    \"\"\" Watch a trained agent interact in the environment. This agent will load the most recent checkpoints in checkpoints directory.\n",
    "\n",
    "    :param agents: Agents used to learn and interact in the environment\n",
    "    :param env: Unity environment for agent to act in\n",
    "    :param brain_name: Brain of environment\n",
    "    \"\"\"\n",
    "    # Load in agents trained parameters\n",
    "    for agent_num,agent in enumerate(maddpg_agent.agents):\n",
    "        agent.actor_local.load_state_dict(torch.load(f'{path}\\checkpoints\\DDPG_Agent_{agent_num}_Actor.pth'))\n",
    "\n",
    "    # Watch the trained Agent\n",
    "    for episode in range(5):\n",
    "        env_info = env.reset(train_mode=False)[brain_name]\n",
    "        states = env_info.vector_observations\n",
    "        for t in range(300):\n",
    "            actions = maddpg_agent.act(states, maddpg_agent.epsilon, add_noise=False)\n",
    "            env_info = env.step(actions)[brain_name]\n",
    "            next_states, dones = env_info.vector_observations, env_info.local_done\n",
    "            states = next_states\n",
    "            if np.any(dones):\n",
    "                break\n",
    "\n",
    "if view_results:\n",
    "    graph_results(f'{path}\\scores\\MADDPG_Agent_AvgScores.txt',\n",
    "                  f'{path}\\scores\\MADDPG_Agent_Scores.txt')\n",
    "\n",
    "if watch_trained:\n",
    "    env_info = env.reset(train_mode=False)[brain_name]\n",
    "    agents = MADDPG(state_size= env_info.vector_observations.shape[1], action_size=brain.vector_action_space_size, num_agents=len(env_info.agents), epsilon=0, seed = 2)\n",
    "    watch_trained(agents, env, brain_name)"
   ],
   "metadata": {
    "collapsed": false,
    "pycharm": {
     "name": "#%%\n",
     "is_executing": true
    }
   }
  },
  {
   "cell_type": "markdown",
   "source": [
    "### 5. Test the Trained Agent"
   ],
   "metadata": {
    "collapsed": false
   }
  },
  {
   "cell_type": "code",
   "execution_count": null,
   "outputs": [],
   "source": [],
   "metadata": {
    "collapsed": false,
    "pycharm": {
     "name": "#%%\n",
     "is_executing": true
    }
   }
  },
  {
   "cell_type": "markdown",
   "source": [
    "When finished close the environment."
   ],
   "metadata": {
    "collapsed": false
   }
  },
  {
   "cell_type": "code",
   "execution_count": null,
   "outputs": [],
   "source": [
    "env.close()"
   ],
   "metadata": {
    "collapsed": false,
    "pycharm": {
     "name": "#%%\n",
     "is_executing": true
    }
   }
  }
 ],
 "metadata": {
  "kernelspec": {
   "display_name": "Python 3",
   "language": "python",
   "name": "python3"
  },
  "language_info": {
   "codemirror_mode": {
    "name": "ipython",
    "version": 3
   },
   "file_extension": ".py",
   "mimetype": "text/x-python",
   "name": "python",
   "nbconvert_exporter": "python",
   "pygments_lexer": "ipython3",
   "version": "3.6.4"
  }
 },
 "nbformat": 4,
 "nbformat_minor": 2
}