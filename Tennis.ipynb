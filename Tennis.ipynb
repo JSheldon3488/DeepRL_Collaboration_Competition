{
 "cells": [
  {
   "cell_type": "markdown",
   "source": [
    "# Collaboration and Competition\n",
    "\n",
    "-----\n",
    "\n",
    "This notebook explores and solves the third project in the [Deep Reinforcement Learning Nanodegree](https://www.udacity.com/course/deep-reinforcement-learning-nanodegree--nd893) program called Collaboration and Competition.\n",
    "This project involves learning in an environment with multiple agents. The starter code for this project can be found [here](https://github.com/udacity/deep-reinforcement-learning/tree/master/p3_collab-compet).\n",
    "\n",
    "### 1. Import / Setup all necessary packages and notebook variables\n",
    "\n",
    "If you have any trouble importing these packages make sure you check the README file and have all the necessary dependencies.\n",
    "**Note:** To set up the unity environment the UnityEnvironment(filepath) must match the location of the Unity environment that you downloaded from the README."
   ],
   "metadata": {
    "collapsed": false
   }
  },
  {
   "cell_type": "code",
   "execution_count": 1,
   "outputs": [
    {
     "name": "stderr",
     "output_type": "stream",
     "text": [
      "INFO:unityagents:\n",
      "'Academy' started successfully!\n",
      "Unity Academy name: Academy\n",
      "        Number of Brains: 1\n",
      "        Number of External Brains : 1\n",
      "        Lesson number : 0\n",
      "        Reset Parameters :\n",
      "\t\t\n",
      "Unity brain name: TennisBrain\n",
      "        Number of Visual Observations (per agent): 0\n",
      "        Vector Observation space type: continuous\n",
      "        Vector Observation space size (per agent): 8\n",
      "        Number of stacked Vector Observation: 3\n",
      "        Vector Action space type: continuous\n",
      "        Vector Action space size (per agent): 2\n",
      "        Vector Action descriptions: , \n"
     ]
    }
   ],
   "source": [
    "from unityagents import UnityEnvironment\n",
    "from agents import MADDPG\n",
    "import matplotlib.pyplot as plt\n",
    "import numpy as np\n",
    "import os\n",
    "import torch\n",
    "\n",
    "#----- Setup Notebook Variables -----#\n",
    "path = os.path.abspath(os.getcwd())\n",
    "env = UnityEnvironment(f'{path}\\\\Tennis_Windows_x86_64\\\\Tennis.exe')\n",
    "brain_name = env.brain_names[0]\n",
    "brain = env.brains[brain_name]\n",
    "examine_environment = True\n",
    "train_agent = False\n",
    "view_results = True\n",
    "watch_trained = True"
   ],
   "metadata": {
    "collapsed": false,
    "pycharm": {
     "name": "#%%\n"
    }
   }
  },
  {
   "cell_type": "markdown",
   "source": [
    "### 2. Examine the environment\n",
    "\n",
    "In this environment, two agents control rackets to bounce a ball over a net.\n",
    "If an agent hits the ball over the net, it receives a reward of +0.1.  If an agent lets a ball hit the ground or hits the ball out of bounds, it receives a reward of -0.01.\n",
    "Thus, this is a cooperative environment and the goal of each agent is to keep the ball in play.\n",
    "\n",
    "The observation space consists of variables corresponding to the position and velocity of the ball and racket.\n",
    "Two continuous actions are available, corresponding to movement toward (or away from) the net, and jumping.\n",
    "\n",
    "Below is additional information about the environment"
   ],
   "metadata": {
    "collapsed": false
   }
  },
  {
   "cell_type": "code",
   "execution_count": 2,
   "outputs": [
    {
     "name": "stdout",
     "output_type": "stream",
     "text": [
      "Number of agents: 2\n",
      "Size of each action per agent: 2\n",
      "Size of observation space per agent: 24\n",
      "Example State: [ 0.          0.          0.          0.          0.          0.\n",
      "  0.          0.          0.          0.          0.          0.\n",
      "  0.          0.          0.          0.         -6.65278625 -1.5\n",
      " -0.          0.          6.83172083  6.         -0.          0.        ]\n",
      "Shape of states: (2, 24), Shape of next_states: (2, 24)\n",
      "Action Example: [[ 0.7069718  -1.        ]\n",
      " [ 0.17241884  0.96656906]]\n",
      "Example of rewards: [0.0, -0.009999999776482582]\n",
      "Example of Dones: [True, True]\n"
     ]
    }
   ],
   "source": [
    "if examine_environment:\n",
    "    #-------         Environment Details        -------#\n",
    "    env_info = env.reset(train_mode=True)[brain_name]\n",
    "    num_agents = len(env_info.agents)\n",
    "    action_size = brain.vector_action_space_size\n",
    "    states = env_info.vector_observations\n",
    "    state_size = states.shape[1]\n",
    "    print(f'Number of agents: {num_agents}')\n",
    "    print(f'Size of each action per agent: {action_size}')\n",
    "    print(f'Size of observation space per agent: {state_size}')\n",
    "    print(f'Example State: {states[0]}')\n",
    "\n",
    "    #-------        Watch Untrained Agent     -------#\n",
    "    for i in range(1, 7):\n",
    "        env_info = env.reset(train_mode=False)[brain_name]\n",
    "        states = env_info.vector_observations\n",
    "        scores = np.zeros(num_agents)\n",
    "        while True:\n",
    "            actions = np.random.randn(num_agents, action_size)\n",
    "            actions = np.clip(actions, -1, 1)\n",
    "            env_info = env.step(actions)[brain_name]\n",
    "            next_states = env_info.vector_observations\n",
    "            rewards = env_info.rewards                         # get reward (for each agent)\n",
    "            dones = env_info.local_done                        # see if episode finished\n",
    "            scores += env_info.rewards                         # update the score (for each agent)\n",
    "            states = next_states                               # roll over states to next time step\n",
    "            if np.any(dones):                                  # exit loop if episode finished\n",
    "                break\n",
    "\n",
    "        # Show Example of what environment returns\n",
    "        if i == 1:\n",
    "            print(f'Shape of states: {states.shape}, Shape of next_states: {next_states.shape}')\n",
    "            print(f'Action Example: {actions}')\n",
    "            print(f'Example of rewards: {rewards}')\n",
    "            print(f'Example of Dones: {dones}')\n"
   ],
   "metadata": {
    "collapsed": false,
    "pycharm": {
     "name": "#%%\n"
    }
   }
  },
  {
   "cell_type": "markdown",
   "source": [
    "### 3. Train an Agent"
   ],
   "metadata": {
    "collapsed": false
   }
  },
  {
   "cell_type": "code",
   "execution_count": 3,
   "outputs": [],
   "source": [
    "if train_agent:\n",
    "    env_info = env.reset(train_mode=True)[brain_name]\n",
    "    maddpg_agent = MADDPG(env_info.vector_observations.shape[1], brain.vector_action_space_size, len(env_info.agents), epsilon=1.0, seed=1)\n",
    "    maddpg_agent.train(env,brain_name)\n"
   ],
   "metadata": {
    "collapsed": false,
    "pycharm": {
     "name": "#%%\n"
    }
   }
  },
  {
   "cell_type": "markdown",
   "source": [
    "### 4. Show Results of Training"
   ],
   "metadata": {
    "collapsed": false
   }
  },
  {
   "cell_type": "code",
   "execution_count": 4,
   "outputs": [
    {
     "data": {
      "text/plain": "<Figure size 432x288 with 1 Axes>",
      "image/png": "[encoded data removed]"
     },
     "metadata": {
      "needs_background": "light"
     },
     "output_type": "display_data"
    }
   ],
   "source": [
    "def graph_results(scores_filename, avgScores_filename, save_graph = True):\n",
    "    \"\"\" Graph results from training an Agent\n",
    "\n",
    "    :param scores_filename: filepath with episode scores\n",
    "    :param avgScores_filename: filepath with average (per 100) episode scores\n",
    "    :param save_graph: Bool for saving or just viewing graph\n",
    "    \"\"\"\n",
    "    # Read in scores from the files\n",
    "    with open(scores_filename) as f:\n",
    "        scores = [round(float(score),2) for score in f.read().splitlines()]\n",
    "    with open(avgScores_filename) as f:\n",
    "        avg_scores = [round(float(score),2) for score in f.read().splitlines()]\n",
    "\n",
    "    # Graph results\n",
    "    fig, ax = plt.subplots()\n",
    "    ax.set(xlabel=\"Episode #\", ylabel=\"Episode Scores\", title=\"MADDPG Agent Learning Curve\")\n",
    "    ax.grid()\n",
    "    ax.plot(np.arange(len(scores)), scores, label=\"Episode Scores\")\n",
    "    ax.plot(np.arange(len(avg_scores)), avg_scores, label=\"100 Episode Average\")\n",
    "    ax.plot(np.arange(len(scores)), np.ones(len(scores))*0.5, color=\"black\", linestyle=\"dashed\", label=\"Solved\")\n",
    "    ax.legend()\n",
    "    # Save graph results\n",
    "    if save_graph:\n",
    "        fig.savefig(f'{path}\\images\\MADDPG_results.png')\n",
    "    plt.show()\n",
    "\n",
    "def watch_trained(maddpg_agent, env, brain_name):\n",
    "    \"\"\" Watch a trained agent interact in the environment. This agent will load the most recent checkpoints in checkpoints directory.\n",
    "\n",
    "    :param agents: Agents used to learn and interact in the environment\n",
    "    :param env: Unity environment for agent to act in\n",
    "    :param brain_name: Brain of environment\n",
    "    \"\"\"\n",
    "    # Load in agents trained parameters\n",
    "    for agent_num,agent in enumerate(maddpg_agent.agents):\n",
    "        agent.actor_local.load_state_dict(torch.load(f'{path}\\checkpoints\\DDPG_Agent_{agent_num}_Actor.pth'))\n",
    "\n",
    "    # Watch the trained Agent\n",
    "    for episode in range(5):\n",
    "        env_info = env.reset(train_mode=False)[brain_name]\n",
    "        states = env_info.vector_observations\n",
    "        for t in range(300):\n",
    "            actions = maddpg_agent.act(states, maddpg_agent.epsilon)\n",
    "            env_info = env.step(actions)[brain_name]\n",
    "            next_states, dones = env_info.vector_observations, env_info.local_done\n",
    "            states = next_states\n",
    "            if np.any(dones):\n",
    "                break\n",
    "\n",
    "if view_results:\n",
    "    graph_results(f'{path}\\scores\\MADDPG_Agent_Scores.txt',\n",
    "                  f'{path}\\scores\\MADDPG_Agent_AvgScores.txt')\n",
    "\n",
    "if watch_trained:\n",
    "    env_info = env.reset(train_mode=False)[brain_name]\n",
    "    agents = MADDPG(state_size= env_info.vector_observations.shape[1], action_size=brain.vector_action_space_size, num_agents=len(env_info.agents), epsilon=0, seed = 2)\n",
    "    watch_trained(agents, env, brain_name)\n"
   ],
   "metadata": {
    "collapsed": false,
    "pycharm": {
     "name": "#%%\n"
    }
   }
  },
  {
   "cell_type": "markdown",
   "source": [
    "When finished close the environment."
   ],
   "metadata": {
    "collapsed": false
   }
  },
  {
   "cell_type": "code",
   "execution_count": 5,
   "outputs": [],
   "source": [
    "env.close()"
   ],
   "metadata": {
    "collapsed": false,
    "pycharm": {
     "name": "#%%\n"
    }
   }
  }
 ],
 "metadata": {
  "kernelspec": {
   "display_name": "Python 3",
   "language": "python",
   "name": "python3"
  },
  "language_info": {
   "codemirror_mode": {
    "name": "ipython",
    "version": 3
   },
   "file_extension": ".py",
   "mimetype": "text/x-python",
   "name": "python",
   "nbconvert_exporter": "python",
   "pygments_lexer": "ipython3",
   "version": "3.6.4"
  }
 },
 "nbformat": 4,
 "nbformat_minor": 2
}